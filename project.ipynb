{
 "cells": [
  {
   "attachments": {},
   "cell_type": "markdown",
   "metadata": {},
   "source": [
    "# Context – Drunk Smurfs\n",
    "Among all international hotel guests, Smurfs are burdened with the upkeep of a singular reputation: they are (supposedly) the rowdiest bunch one can entertain, and are equally well-known for unbridled spending as for racking up extensive costs in damages to hotel infrastructure, staff, and occasionally also other guests – costs which typically cannot be recovered once the guest has sought out the safety of his (or her) homeland.\n",
    "It is your job as a data scientist to screen applying Smurfs clients for an exclusive hotel in the Bahamas - yes, it's the kind of hotel you need to apply for!\n",
    "# The data\n",
    "At your disposal is a training set containing data about the behavior of 5000 Smurf hotel guests (train_V2.csv). This data set contains information about the profit the hotel made during their last visit (excluding damages), but also whether they caused damages during their last visit, and for what amount. These outcomes are respectively called 'outcome_profit', 'outcome_damage_inc', and 'outcome_damage_amount'. To predict them, you have access to a host of personal information: previous history of profits and damages, use of hotel facilities, socio-demographics and behavioral scores from the staff of other hotels within the hotel chains. A minor description of features is available in dictionary.csv.\n",
    "You also get information on the 500 applicants for the 2024 season (score.csv). It is your job to return a list of 150 clients that offer an attractive balance between projected profit for the hotel, and anticipated damages. \n",
    "You will notice the data set contains a large number of oddities. You are expected to think yourself about what is intuitive and acceptable in terms of approach, and to provide some minor reflection on this in your technical report. \n"
   ]
  },
  {
   "attachments": {},
   "cell_type": "markdown",
   "metadata": {},
   "source": [
    "# Possible approach\n",
    "To generate a client list, you can (but don't have to) follow the next steps:\n",
    "1)\tprepare the data set\t\n",
    "* briefly survey the data\n",
    "* deal with data issues:\n",
    "* appropriate handle categorical data\n",
    "* treat missing data\n",
    "* identify outliers, and choose whether to make your analysis more robust by removing these\n",
    "2)\tpredict the projected revenue per clients\n",
    "* choose an algorithm, and train it in an optimal way\n",
    "* score the 500 applicants\n",
    "3)\tpredict which clients will cause damage\n",
    "* choose an algorithm, and train it in an optimal way\n",
    "* score the 500 applicants\n",
    "4)\tfor those that will wreak havoc, predict the amount of damage they will cause\n",
    "* choose an algorithm, and train it in an optimal way\n",
    "* score the 500 applicants\n",
    "5)\tcreate a measure of the expected value of each applicant, and create an optimal selection of 200 guests"
   ]
  },
  {
   "attachments": {},
   "cell_type": "markdown",
   "metadata": {},
   "source": [
    "## 0. Loading packages and dataset"
   ]
  },
  {
   "cell_type": "code",
   "execution_count": null,
   "metadata": {},
   "outputs": [],
   "source": [
    "%matplotlib inline\n",
    "import numpy as np\n",
    "import pandas as pd\n",
    "import matplotlib as mpl\n",
    "import matplotlib.pyplot as plt\n",
    "import seaborn as sns\n",
    "\n",
    "from sklearn.model_selection import train_test_split\n",
    "from sklearn.preprocessing import StandardScaler\n",
    "from sklearn.linear_model import LinearRegression\n",
    "\n",
    "plt.style.use('seaborn-darkgrid')   "
   ]
  },
  {
   "cell_type": "code",
   "execution_count": null,
   "metadata": {},
   "outputs": [],
   "source": [
    "# read in data\n",
    "train = pd.read_csv('train_V2.csv')\n",
    "score = pd.read_csv('score.csv')"
   ]
  },
  {
   "attachments": {},
   "cell_type": "markdown",
   "metadata": {},
   "source": [
    "## 1. Data exploration"
   ]
  },
  {
   "attachments": {},
   "cell_type": "markdown",
   "metadata": {},
   "source": [
    "1. and 2: number of features and observations"
   ]
  },
  {
   "cell_type": "code",
   "execution_count": null,
   "metadata": {},
   "outputs": [],
   "source": [
    "train.shape"
   ]
  },
  {
   "cell_type": "code",
   "execution_count": null,
   "metadata": {},
   "outputs": [],
   "source": [
    "# correlation matrix\n",
    "corr_matrix = train.corr()\n",
    "print(corr_matrix)\n",
    "# No variables with a correlation of 1 so we don't have to remove any variables based on that\n"
   ]
  },
  {
   "attachments": {},
   "cell_type": "markdown",
   "metadata": {},
   "source": [
    "# Check for constant variables"
   ]
  },
  {
   "cell_type": "code",
   "execution_count": null,
   "metadata": {},
   "outputs": [],
   "source": [
    "# There are no constant variables so we do not need to ommit any based on this information.\n",
    "constant_columns = [col for col in train.columns if train[col].nunique() == 1]\n",
    "print(constant_columns)"
   ]
  },
  {
   "attachments": {},
   "cell_type": "markdown",
   "metadata": {},
   "source": [
    "No constant variables were found."
   ]
  },
  {
   "cell_type": "code",
   "execution_count": null,
   "metadata": {},
   "outputs": [],
   "source": [
    "train.describe().T"
   ]
  },
  {
   "cell_type": "code",
   "execution_count": null,
   "metadata": {},
   "outputs": [],
   "source": [
    "train[0:500].T"
   ]
  },
  {
   "attachments": {},
   "cell_type": "markdown",
   "metadata": {},
   "source": [
    "3. Check for datatypes"
   ]
  },
  {
   "cell_type": "code",
   "execution_count": null,
   "metadata": {},
   "outputs": [],
   "source": [
    "train.info()"
   ]
  },
  {
   "attachments": {},
   "cell_type": "markdown",
   "metadata": {},
   "source": [
    "4. and 5. Check for missing data"
   ]
  },
  {
   "cell_type": "code",
   "execution_count": null,
   "metadata": {},
   "outputs": [],
   "source": [
    "#Here we check how many missing values we have per variable.\n",
    "train.isnull().sum()[train.isnull().sum() != 0]"
   ]
  },
  {
   "cell_type": "code",
   "execution_count": null,
   "metadata": {},
   "outputs": [],
   "source": [
    "#here we look at what percentage of the observations are not NaN per variable\n",
    "(5000- train.isnull().sum()[train.isnull().sum() != 0])/5000*100"
   ]
  },
  {
   "cell_type": "code",
   "execution_count": null,
   "metadata": {},
   "outputs": [],
   "source": [
    "# Define the columns that cannot contain negative values\n",
    "non_neg_cols = ['outcome_damage_inc','outcome_damage_amount','crd_lim_rec', 'credit_use_ic', 'insurance_ic', 'spa_ic', \n",
    "                'empl_ic', 'bar_no', 'sport_ic','neighbor_income','age', 'dining_ic', \n",
    "                'presidential', 'client_segment', 'sect_empl','prev_stay','prev_all_in_stay', 'fam_adult_size', 'children_no','tenure_yrs',\n",
    "                'tenure_mts','company_ic', 'claims_no','claims_am', 'damage_am', 'damage_inc','nights_booked', 'shop_am', 'shop_use', 'retired',\n",
    "                'profit_am','profit_last_am', 'gold_status']\n",
    "\n",
    "mask = (train[non_neg_cols] < 0).any(axis=1)\n",
    "\n",
    "# Drop the rows that have negative values in any of the specified columns\n",
    "train = train[~mask]\n",
    "train"
   ]
  },
  {
   "attachments": {},
   "cell_type": "markdown",
   "metadata": {},
   "source": [
    "## b) Look at the data\n"
   ]
  },
  {
   "cell_type": "code",
   "execution_count": null,
   "metadata": {},
   "outputs": [],
   "source": [
    "#here we look at the first 16 variables\n",
    "train.iloc[:,0:16].head()"
   ]
  },
  {
   "cell_type": "code",
   "execution_count": null,
   "metadata": {},
   "outputs": [],
   "source": [
    "#here we look at the variables starting from the 16th just to see what the data looks like\n",
    "train.iloc[:,16:53].head()"
   ]
  },
  {
   "attachments": {},
   "cell_type": "markdown",
   "metadata": {},
   "source": [
    "## Plot the data"
   ]
  },
  {
   "attachments": {},
   "cell_type": "markdown",
   "metadata": {},
   "source": [
    "### Barplot"
   ]
  },
  {
   "cell_type": "code",
   "execution_count": null,
   "metadata": {},
   "outputs": [],
   "source": [
    "# Look at the amount of men and women with a bar chart\n",
    "sns.countplot(y=train[\"gender\"])"
   ]
  },
  {
   "attachments": {},
   "cell_type": "markdown",
   "metadata": {},
   "source": [
    "### Correlation plot"
   ]
  },
  {
   "cell_type": "code",
   "execution_count": null,
   "metadata": {},
   "outputs": [],
   "source": [
    "corrmat = train.corr()\n",
    "\n",
    "fig, ax = plt.subplots(figsize=(8,8))\n",
    "\n",
    "# Add title to the Heat map\n",
    "title = \"Correlation between variables heatmap\"\n",
    "\n",
    "# Set the font size and the distance of the title from the plot\n",
    "plt.title(title,fontsize=18)\n",
    "ttl = ax.title\n",
    "ttl.set_position([0.5,1.05])\n",
    "\n",
    "# Hide ticks for X & Y axis\n",
    "ax.set_xticks([])\n",
    "ax.set_yticks([])\n",
    "\n",
    "# Remove the axes\n",
    "ax.axis('off')\n",
    "\n",
    "sns.heatmap(corrmat,fmt=\"\",cmap='RdYlGn',linewidths=0.30,ax=ax)\n",
    "\n",
    "plt.show()\n"
   ]
  },
  {
   "cell_type": "code",
   "execution_count": null,
   "metadata": {},
   "outputs": [],
   "source": [
    "# sns.set()\n",
    "# features = train.copy()\n",
    "# features = features.drop([\"outcome_damage_inc\"], 1)\n",
    "# xvars = features.columns\n",
    "# sns.pairplot(train, y_vars=['outcome_damage_inc'], x_vars=(xvars[0:5]))\n",
    "# sns.pairplot(train, y_vars=['outcome_damage_inc'], x_vars=(xvars[5:10]))\n",
    "# sns.pairplot(train, y_vars=['outcome_damage_inc'], x_vars=(xvars[10:15]))\n",
    "# sns.pairplot(train, y_vars=['outcome_damage_inc'], x_vars=(xvars[15:20]))\n",
    "# sns.pairplot(train, y_vars=['outcome_damage_inc'], x_vars=(xvars[20:25]))\n",
    "# sns.pairplot(train, y_vars=['outcome_damage_inc'], x_vars=(xvars[25:30]))\n",
    "# sns.pairplot(train, y_vars=['outcome_damage_inc'], x_vars=(xvars[30:35]))\n",
    "# sns.pairplot(train, y_vars=['outcome_damage_inc'], x_vars=(xvars[35:40]))\n",
    "# sns.pairplot(train, y_vars=['outcome_damage_inc'], x_vars=(xvars[40:45]))\n",
    "# sns.pairplot(train, y_vars=['outcome_damage_inc'], x_vars=(xvars[45:50]))\n",
    "# sns.pairplot(train, y_vars=['outcome_damage_inc'], x_vars=(xvars[50:53]))\n",
    "\n",
    "# plt.show()"
   ]
  },
  {
   "cell_type": "code",
   "execution_count": null,
   "metadata": {},
   "outputs": [],
   "source": [
    "# sns.set()\n",
    "# features = train.copy()\n",
    "# features = features.drop([\"outcome_profit\"], 1)\n",
    "# xvars = features.columns\n",
    "# sns.pairplot(train, y_vars=['outcome_profit'], x_vars=(xvars[0:5]))\n",
    "# sns.pairplot(train, y_vars=['outcome_profit'], x_vars=(xvars[5:10]))\n",
    "# sns.pairplot(train, y_vars=['outcome_profit'], x_vars=(xvars[10:15]))\n",
    "# sns.pairplot(train, y_vars=['outcome_profit'], x_vars=(xvars[15:20]))\n",
    "# sns.pairplot(train, y_vars=['outcome_profit'], x_vars=(xvars[20:25]))\n",
    "# sns.pairplot(train, y_vars=['outcome_profit'], x_vars=(xvars[25:30]))\n",
    "# sns.pairplot(train, y_vars=['outcome_profit'], x_vars=(xvars[30:35]))\n",
    "# sns.pairplot(train, y_vars=['outcome_profit'], x_vars=(xvars[35:40]))\n",
    "# sns.pairplot(train, y_vars=['outcome_profit'], x_vars=(xvars[40:45]))\n",
    "# sns.pairplot(train, y_vars=['outcome_profit'], x_vars=(xvars[45:50]))\n",
    "# sns.pairplot(train, y_vars=['outcome_profit'], x_vars=(xvars[50:53]))\n",
    "\n",
    "# plt.show()"
   ]
  },
  {
   "cell_type": "code",
   "execution_count": null,
   "metadata": {},
   "outputs": [],
   "source": [
    "# sns.set()\n",
    "# features = train.copy()\n",
    "# features = features.drop([\"outcome_damage_amount\"], 1)\n",
    "# xvars = features.columns\n",
    "# sns.pairplot(train, y_vars=['outcome_damage_amount'], x_vars=(xvars[0:5]))\n",
    "# sns.pairplot(train, y_vars=['outcome_damage_amount'], x_vars=(xvars[5:10]))\n",
    "# sns.pairplot(train, y_vars=['outcome_damage_amount'], x_vars=(xvars[10:15]))\n",
    "# sns.pairplot(train, y_vars=['outcome_damage_amount'], x_vars=(xvars[15:20]))\n",
    "# sns.pairplot(train, y_vars=['outcome_damage_amount'], x_vars=(xvars[20:25]))\n",
    "# sns.pairplot(train, y_vars=['outcome_damage_amount'], x_vars=(xvars[25:30]))\n",
    "# sns.pairplot(train, y_vars=['outcome_damage_amount'], x_vars=(xvars[30:35]))\n",
    "# sns.pairplot(train, y_vars=['outcome_damage_amount'], x_vars=(xvars[35:40]))\n",
    "# sns.pairplot(train, y_vars=['outcome_damage_amount'], x_vars=(xvars[40:45]))\n",
    "# sns.pairplot(train, y_vars=['outcome_damage_amount'], x_vars=(xvars[45:50]))\n",
    "# sns.pairplot(train, y_vars=['outcome_damage_amount'], x_vars=(xvars[50:53]))\n",
    "\n",
    "# plt.show()"
   ]
  },
  {
   "attachments": {},
   "cell_type": "markdown",
   "metadata": {},
   "source": [
    "## Check for outliers"
   ]
  },
  {
   "attachments": {},
   "cell_type": "markdown",
   "metadata": {},
   "source": [
    "We calculate the z_scores of each data point and identify outliers as data points with a score greater than 3, here for 'outcome_damage_amount'"
   ]
  },
  {
   "cell_type": "code",
   "execution_count": null,
   "metadata": {},
   "outputs": [],
   "source": [
    "# calculate the Z-score of each data point\n",
    "z_scores = np.abs((train['outcome_damage_amount'] - train['outcome_damage_amount'].mean()) / train['outcome_damage_amount'].std())\n",
    "\n",
    "# identify outliers as data points with a Z-score greater than 3\n",
    "outliers = train[z_scores > 3]\n",
    "\n",
    "# print the number of outliers\n",
    "print(len(outliers[\"outcome_damage_amount\"]))\n",
    "\n",
    "\n",
    "# from scipy import stats\n",
    "# import numpy as np\n",
    "# z = np.abs(stats.zscore(train))\n",
    "# traintest = train[(z < 3).all(axis=1)]\n",
    "# traintest"
   ]
  },
  {
   "attachments": {},
   "cell_type": "markdown",
   "metadata": {},
   "source": [
    "We calculate the z_scores of each data point and identify outliers as data points with a score greater than 3, here for 'outcome_profit'"
   ]
  },
  {
   "cell_type": "code",
   "execution_count": null,
   "metadata": {},
   "outputs": [],
   "source": [
    "# calculate the Z-score of each data point\n",
    "z_scores = np.abs((train['outcome_profit'] - train['outcome_profit'].mean()) / train['outcome_profit'].std())\n",
    "\n",
    "# identify outliers as data points with a Z-score greater than 3\n",
    "outliers = train[z_scores > 3]\n",
    "\n",
    "# print the number of outliers\n",
    "print(len(outliers[\"outcome_profit\"]))"
   ]
  },
  {
   "attachments": {},
   "cell_type": "markdown",
   "metadata": {},
   "source": [
    "We calculate the z_scores of each data point and identify outliers as data points with a score greater than 3, here for 'outcome_damage_inc'"
   ]
  },
  {
   "cell_type": "code",
   "execution_count": null,
   "metadata": {},
   "outputs": [],
   "source": [
    "# calculate the Z-score of each data point\n",
    "z_scores = np.abs((train['outcome_damage_inc'] - train['outcome_damage_inc'].mean()) / train['outcome_damage_inc'].std())\n",
    "\n",
    "# identify outliers as data points with a Z-score greater than 3\n",
    "outliers = train[z_scores > 3]\n",
    "\n",
    "# print the number of outliers\n",
    "print(len(outliers[\"outcome_damage_inc\"]))"
   ]
  },
  {
   "cell_type": "code",
   "execution_count": null,
   "metadata": {},
   "outputs": [],
   "source": [
    "train.info()"
   ]
  },
  {
   "attachments": {},
   "cell_type": "markdown",
   "metadata": {},
   "source": [
    "## c) Look at the descriptives\n",
    "1. For which features do you suspect outliers?\n",
    "2. Which of these outliers seem most suspicious? Which would you certainly check if you were able to?"
   ]
  },
  {
   "cell_type": "code",
   "execution_count": null,
   "metadata": {},
   "outputs": [],
   "source": [
    "train.iloc[:,0:16].head()"
   ]
  },
  {
   "attachments": {},
   "cell_type": "markdown",
   "metadata": {},
   "source": [
    "2. Convert categorical"
   ]
  },
  {
   "cell_type": "code",
   "execution_count": null,
   "metadata": {},
   "outputs": [],
   "source": [
    "# This variable is a boolean, but it is stored as an integer\n",
    "train['married_cd'] = train['married_cd'].astype('int')\n",
    "train.loc[:, 'married_cd']\n",
    "\n",
    "score['married_cd'] = score['married_cd'].astype('int')"
   ]
  },
  {
   "attachments": {},
   "cell_type": "markdown",
   "metadata": {},
   "source": [
    "## Clean the data"
   ]
  },
  {
   "attachments": {},
   "cell_type": "markdown",
   "metadata": {},
   "source": [
    "1. Drop duplicates"
   ]
  },
  {
   "cell_type": "code",
   "execution_count": null,
   "metadata": {},
   "outputs": [],
   "source": [
    "train = train.drop_duplicates()\n",
    "train.head()"
   ]
  },
  {
   "attachments": {},
   "cell_type": "markdown",
   "metadata": {},
   "source": [
    "2. Replace all NaN values with '-1'"
   ]
  },
  {
   "cell_type": "code",
   "execution_count": null,
   "metadata": {},
   "outputs": [],
   "source": [
    "# Replace all NaN values with a specified value (e.g., 0)\n",
    "train.fillna(-1, inplace=True)\n",
    "train.head()\n",
    "\n",
    "score.fillna(-1, inplace=True)"
   ]
  },
  {
   "cell_type": "code",
   "execution_count": null,
   "metadata": {},
   "outputs": [],
   "source": [
    "na = train.isna()\n",
    "columns_with_na = train.columns[na.any()].tolist() \n",
    "print(len(columns_with_na))"
   ]
  },
  {
   "attachments": {},
   "cell_type": "markdown",
   "metadata": {},
   "source": [
    "3. Drop irrelvant columns\n",
    "\n",
    "gluten_ic and lactose_ic: The fact that a person is gluten or lactose intolerant does not indicate how likely it is for them to inflict damages or how much money they will be spending in the hotel. Maybe they will pay a tiny bit more for food without those ingredients but it shouldn't have a significant impact.\n",
    "\n",
    "cab_requests: The hotel is very unlikely to own the cab company so wether or not they buy a lot of taxis will not influence the profit for the hotel.\n",
    "\n",
    "marketing_permit: The choice on wether or not the marketing team may contact them will not influence how much money they will be spending nor how likely they are to inflict damages.\n",
    "\n",
    "region: Although region could be a small factor due to cultural diferences in spending and personal traits, this could lead to discrimination of people of a certain region.\n",
    "\n",
    "gender: Here it could also be that a cerain gender is for example more aggressive than others and thus more likely to inflict damages, but this could also lead to discrimination based on generalisations.\n",
    "\n",
    "divorce: Being divorced or not does not impact the way you behave or spend money, definitely not if some time has passed. Maybe the first months they could be a bit more aggressive or impulsive due to their grief."
   ]
  },
  {
   "cell_type": "code",
   "execution_count": null,
   "metadata": {},
   "outputs": [],
   "source": [
    "# drop the columns that are not needed\n",
    "train = train.drop(['gluten_ic', 'lactose_ic', 'marketing_permit','divorce', 'cab_requests', 'urban_ic', 'gender', \"married_cd\"], axis=1) #outcome_damage_inc, outcome_damage_amount\n",
    "score = score.drop(['gluten_ic', 'lactose_ic', 'marketing_permit', 'divorce', 'cab_requests', 'urban_ic', 'gender', \"married_cd\"], axis=1)"
   ]
  },
  {
   "attachments": {},
   "cell_type": "markdown",
   "metadata": {},
   "source": [
    " I make sure all three categorical features are classified as 'object' to be able to check if they are categorical"
   ]
  },
  {
   "attachments": {},
   "cell_type": "markdown",
   "metadata": {},
   "source": [
    "4. Remove unwanted outliers\n"
   ]
  },
  {
   "attachments": {},
   "cell_type": "markdown",
   "metadata": {},
   "source": [
    "No unwanted outliers found"
   ]
  },
  {
   "attachments": {},
   "cell_type": "markdown",
   "metadata": {},
   "source": [
    "## 2. Machine Learning \n"
   ]
  },
  {
   "attachments": {},
   "cell_type": "markdown",
   "metadata": {},
   "source": [
    "### Train the different ML models to predict projected revenue\n"
   ]
  },
  {
   "attachments": {},
   "cell_type": "markdown",
   "metadata": {},
   "source": [
    "### 2.0.0 Split the data in test/train and standardize data\n"
   ]
  },
  {
   "cell_type": "code",
   "execution_count": null,
   "metadata": {},
   "outputs": [],
   "source": [
    "from sklearn.preprocessing import StandardScaler\n",
    "\n",
    "X = train\n",
    "X = X.drop(['outcome_damage_amount', 'outcome_damage_inc', 'outcome_profit'], axis=1)\n",
    "y = train['outcome_profit']\n",
    "\n",
    "\n",
    "X_trainval, X_test, y_trainval, y_test = train_test_split(X, y, test_size=0.2, random_state=1234)\n",
    "X_train, X_val, y_train, y_val = train_test_split(X_trainval,y_trainval, test_size=0.2, random_state=1234)"
   ]
  },
  {
   "attachments": {},
   "cell_type": "markdown",
   "metadata": {},
   "source": [
    " Standardize"
   ]
  },
  {
   "cell_type": "code",
   "execution_count": null,
   "metadata": {},
   "outputs": [],
   "source": [
    "num_feat = X_train.select_dtypes(include=['int64', 'float64']).columns\n",
    "\n",
    "scaler = StandardScaler()\n",
    "X_train_stand = X_train.copy()\n",
    "X_trainval_stand = X_trainval.copy()\n",
    "X_val_stand = X_val.copy()\n",
    "X_test_stand = X_test.copy()\n",
    "\n",
    "X_train_stand[num_feat] = scaler.fit_transform(X_train[num_feat])\n",
    "X_val_stand[num_feat] = scaler.transform(X_val[num_feat])\n",
    "X_trainval_stand[num_feat] = scaler.transform(X_trainval[num_feat])\n",
    "X_test_stand[num_feat] = scaler.transform(X_test[num_feat])"
   ]
  },
  {
   "attachments": {},
   "cell_type": "markdown",
   "metadata": {},
   "source": [
    "### 2.0.1 Lineair Regression"
   ]
  },
  {
   "cell_type": "code",
   "execution_count": null,
   "metadata": {},
   "outputs": [],
   "source": [
    "\n",
    "\n",
    "# Train a linear regression model\n",
    "LRmodel = LinearRegression()\n",
    "LRmodel.fit(X_train_stand, y_train)"
   ]
  },
  {
   "cell_type": "code",
   "execution_count": null,
   "metadata": {},
   "outputs": [],
   "source": [
    "# Evaluate the model on the testing set and validation set\n",
    "print(LRmodel.score(X_train_stand, y_train))\n",
    "print(LRmodel.score(X_val_stand, y_val))\n"
   ]
  },
  {
   "attachments": {},
   "cell_type": "markdown",
   "metadata": {},
   "source": [
    "print(LRmodel.score(X_train_stand, y_train)) = 0.3772670762346171\n",
    "print(LRmodel.score(X_val_stand, y_val)) = 0.17380643438615606"
   ]
  },
  {
   "cell_type": "code",
   "execution_count": null,
   "metadata": {},
   "outputs": [],
   "source": [
    "from sklearn.model_selection import cross_val_score\n",
    "\n",
    "\n",
    "# Evaluate the model using cross-validation\n",
    "scores = cross_val_score(LRmodel, X_trainval_stand, y_trainval, cv=5, scoring='r2')\n",
    "print('Cross-validation R^2 scores:', scores)\n",
    "print('Mean cross-validation R^2 score:', scores.mean())"
   ]
  },
  {
   "attachments": {},
   "cell_type": "markdown",
   "metadata": {},
   "source": [
    "Cross-validation R^2 scores: [ 0.29503695  0.37003418  0.42131625  0.2815202  -0.03180097]\n",
    "Mean cross-validation R^2 score: 0.26722132203092197\n",
    "\n",
    "This indicates that the model is not a good fit for the data"
   ]
  },
  {
   "cell_type": "code",
   "execution_count": null,
   "metadata": {},
   "outputs": [],
   "source": [
    "# Predict the projected revenue for the 500 applicants\n",
    "\n",
    "LRscore = scaler.transform(score)\n",
    "LRpredictions = LRmodel.predict(LRscore)\n",
    "\n",
    "# Sort the predictions in descending order\n",
    "sorted_index = np.argsort(LRpredictions)[::-1]\n",
    "LRsorted_predictions = LRpredictions[sorted_index]\n",
    "\n",
    "print(LRsorted_predictions)"
   ]
  },
  {
   "attachments": {},
   "cell_type": "markdown",
   "metadata": {},
   "source": [
    "### 2.0.2 KNN "
   ]
  },
  {
   "cell_type": "code",
   "execution_count": 35,
   "metadata": {},
   "outputs": [
    {
     "name": "stdout",
     "output_type": "stream",
     "text": [
      "Best n_neighbors: 8\n",
      "Best R2 score: 0.24255555335173443\n"
     ]
    }
   ],
   "source": [
    "from sklearn.model_selection import GridSearchCV\n",
    "from sklearn.neighbors import KNeighborsRegressor\n",
    "\n",
    "\n",
    "# Create a KNeighborsRegressor object\n",
    "KNNmodel = KNeighborsRegressor()\n",
    "\n",
    "# Define the grid of hyperparameters to search over\n",
    "param_grid = {'n_neighbors': range(1, 101)}\n",
    "\n",
    "# Perform a grid search with cross-validation\n",
    "grid_search = GridSearchCV(KNNmodel, param_grid, cv=5, scoring='r2')\n",
    "grid_search.fit(X_train_stand, y_train)\n",
    "\n",
    "# Print the best hyperparameter value and score\n",
    "print(\"Best n_neighbors:\", grid_search.best_params_['n_neighbors'])\n",
    "print(\"Best R2 score:\", grid_search.best_score_)\n"
   ]
  },
  {
   "cell_type": "code",
   "execution_count": 36,
   "metadata": {},
   "outputs": [
    {
     "data": {
      "text/html": [
       "<style>#sk-container-id-2 {color: black;background-color: white;}#sk-container-id-2 pre{padding: 0;}#sk-container-id-2 div.sk-toggleable {background-color: white;}#sk-container-id-2 label.sk-toggleable__label {cursor: pointer;display: block;width: 100%;margin-bottom: 0;padding: 0.3em;box-sizing: border-box;text-align: center;}#sk-container-id-2 label.sk-toggleable__label-arrow:before {content: \"▸\";float: left;margin-right: 0.25em;color: #696969;}#sk-container-id-2 label.sk-toggleable__label-arrow:hover:before {color: black;}#sk-container-id-2 div.sk-estimator:hover label.sk-toggleable__label-arrow:before {color: black;}#sk-container-id-2 div.sk-toggleable__content {max-height: 0;max-width: 0;overflow: hidden;text-align: left;background-color: #f0f8ff;}#sk-container-id-2 div.sk-toggleable__content pre {margin: 0.2em;color: black;border-radius: 0.25em;background-color: #f0f8ff;}#sk-container-id-2 input.sk-toggleable__control:checked~div.sk-toggleable__content {max-height: 200px;max-width: 100%;overflow: auto;}#sk-container-id-2 input.sk-toggleable__control:checked~label.sk-toggleable__label-arrow:before {content: \"▾\";}#sk-container-id-2 div.sk-estimator input.sk-toggleable__control:checked~label.sk-toggleable__label {background-color: #d4ebff;}#sk-container-id-2 div.sk-label input.sk-toggleable__control:checked~label.sk-toggleable__label {background-color: #d4ebff;}#sk-container-id-2 input.sk-hidden--visually {border: 0;clip: rect(1px 1px 1px 1px);clip: rect(1px, 1px, 1px, 1px);height: 1px;margin: -1px;overflow: hidden;padding: 0;position: absolute;width: 1px;}#sk-container-id-2 div.sk-estimator {font-family: monospace;background-color: #f0f8ff;border: 1px dotted black;border-radius: 0.25em;box-sizing: border-box;margin-bottom: 0.5em;}#sk-container-id-2 div.sk-estimator:hover {background-color: #d4ebff;}#sk-container-id-2 div.sk-parallel-item::after {content: \"\";width: 100%;border-bottom: 1px solid gray;flex-grow: 1;}#sk-container-id-2 div.sk-label:hover label.sk-toggleable__label {background-color: #d4ebff;}#sk-container-id-2 div.sk-serial::before {content: \"\";position: absolute;border-left: 1px solid gray;box-sizing: border-box;top: 0;bottom: 0;left: 50%;z-index: 0;}#sk-container-id-2 div.sk-serial {display: flex;flex-direction: column;align-items: center;background-color: white;padding-right: 0.2em;padding-left: 0.2em;position: relative;}#sk-container-id-2 div.sk-item {position: relative;z-index: 1;}#sk-container-id-2 div.sk-parallel {display: flex;align-items: stretch;justify-content: center;background-color: white;position: relative;}#sk-container-id-2 div.sk-item::before, #sk-container-id-2 div.sk-parallel-item::before {content: \"\";position: absolute;border-left: 1px solid gray;box-sizing: border-box;top: 0;bottom: 0;left: 50%;z-index: -1;}#sk-container-id-2 div.sk-parallel-item {display: flex;flex-direction: column;z-index: 1;position: relative;background-color: white;}#sk-container-id-2 div.sk-parallel-item:first-child::after {align-self: flex-end;width: 50%;}#sk-container-id-2 div.sk-parallel-item:last-child::after {align-self: flex-start;width: 50%;}#sk-container-id-2 div.sk-parallel-item:only-child::after {width: 0;}#sk-container-id-2 div.sk-dashed-wrapped {border: 1px dashed gray;margin: 0 0.4em 0.5em 0.4em;box-sizing: border-box;padding-bottom: 0.4em;background-color: white;}#sk-container-id-2 div.sk-label label {font-family: monospace;font-weight: bold;display: inline-block;line-height: 1.2em;}#sk-container-id-2 div.sk-label-container {text-align: center;}#sk-container-id-2 div.sk-container {/* jupyter's `normalize.less` sets `[hidden] { display: none; }` but bootstrap.min.css set `[hidden] { display: none !important; }` so we also need the `!important` here to be able to override the default hidden behavior on the sphinx rendered scikit-learn.org. See: https://github.com/scikit-learn/scikit-learn/issues/21755 */display: inline-block !important;position: relative;}#sk-container-id-2 div.sk-text-repr-fallback {display: none;}</style><div id=\"sk-container-id-2\" class=\"sk-top-container\"><div class=\"sk-text-repr-fallback\"><pre>KNeighborsRegressor(n_neighbors=8)</pre><b>In a Jupyter environment, please rerun this cell to show the HTML representation or trust the notebook. <br />On GitHub, the HTML representation is unable to render, please try loading this page with nbviewer.org.</b></div><div class=\"sk-container\" hidden><div class=\"sk-item\"><div class=\"sk-estimator sk-toggleable\"><input class=\"sk-toggleable__control sk-hidden--visually\" id=\"sk-estimator-id-2\" type=\"checkbox\" checked><label for=\"sk-estimator-id-2\" class=\"sk-toggleable__label sk-toggleable__label-arrow\">KNeighborsRegressor</label><div class=\"sk-toggleable__content\"><pre>KNeighborsRegressor(n_neighbors=8)</pre></div></div></div></div></div>"
      ],
      "text/plain": [
       "KNeighborsRegressor(n_neighbors=8)"
      ]
     },
     "execution_count": 36,
     "metadata": {},
     "output_type": "execute_result"
    }
   ],
   "source": [
    "# Heeft een score van 0.025000182087153267\n",
    "from sklearn.metrics import r2_score\n",
    "\n",
    "# Train a linear regression model\n",
    "KNNmodel = KNeighborsRegressor(n_neighbors=8)\n",
    "KNNmodel.fit(X_train_stand, y_train)"
   ]
  },
  {
   "cell_type": "code",
   "execution_count": 37,
   "metadata": {},
   "outputs": [
    {
     "name": "stdout",
     "output_type": "stream",
     "text": [
      "R-squared score: 0.2300739800278524\n",
      "R2 score validation set: 0.015405506742735664\n"
     ]
    }
   ],
   "source": [
    "# Make predictions on the testing set\n",
    "KNNy_pred = KNNmodel.predict(X_test_stand)\n",
    "\n",
    "# Evaluate the model using r-squared score\n",
    "r2 = r2_score(y_test, KNNy_pred)\n",
    "print('R-squared score:', r2)\n",
    "\n",
    "y_predval = KNNmodel.predict(X_val_stand)\n",
    "\n",
    "r2val = r2_score(y_val, y_predval)\n",
    "print(\"R2 score validation set:\", r2val)"
   ]
  },
  {
   "cell_type": "code",
   "execution_count": 38,
   "metadata": {},
   "outputs": [
    {
     "name": "stdout",
     "output_type": "stream",
     "text": [
      "[7361.02    6608.05875 5130.36625 4727.67625 4584.915   4470.89375\n",
      " 4323.26625 4322.63    4321.29625 4313.93125 4192.25875 3933.57625\n",
      " 3794.3575  3636.67625 3630.21    3120.36    3111.325   3076.9375\n",
      " 2910.34375 2860.07375 2825.20125 2820.415   2790.97125 2789.75875\n",
      " 2759.33    2743.84375 2732.96125 2711.93125 2711.0525  2676.11375\n",
      " 2672.54875 2613.44125 2611.035   2597.1175  2581.39875 2579.73\n",
      " 2543.8875  2542.81    2542.27125 2527.49125 2504.5275  2502.9975\n",
      " 2491.8525  2482.33375 2480.08125 2466.1575  2457.56625 2455.23125\n",
      " 2439.8575  2437.515   2433.2675  2431.30375 2429.3875  2416.985\n",
      " 2397.99375 2390.255   2369.9     2369.57125 2366.915   2362.18375\n",
      " 2344.8     2334.88625 2333.33625 2331.76125 2330.75    2321.06375\n",
      " 2305.18625 2302.13625 2292.05625 2288.68125 2282.2075  2281.18375\n",
      " 2278.75375 2277.8125  2261.15875 2259.465   2257.23625 2255.7225\n",
      " 2255.63125 2253.1275  2242.69375 2241.5925  2235.7575  2234.8875\n",
      " 2233.00375 2228.39    2207.5425  2204.31    2202.67125 2192.36625\n",
      " 2186.75125 2185.76125 2185.36625 2171.00875 2168.8     2166.36875\n",
      " 2166.20875 2161.785   2157.295   2149.24125 2143.80375 2141.61625\n",
      " 2134.7225  2132.88375 2123.05875 2119.02125 2110.66625 2105.6325\n",
      " 2104.36625 2101.08    2098.08125 2096.54875 2092.72375 2092.55625\n",
      " 2092.41    2092.13625 2088.67125 2085.46625 2079.13125 2077.29125\n",
      " 2071.9325  2069.86375 2066.44125 2064.7975  2059.08375 2059.08375\n",
      " 2052.86875 2052.42625 2047.08875 2046.695   2045.74875 2044.1575\n",
      " 2043.935   2042.01375 2038.6325  2035.53125 2029.715   2028.02875\n",
      " 2025.275   2024.54875 2021.035   2020.50125 2020.47875 2019.8175\n",
      " 2019.2425  2016.17875 2011.835   2006.3825  2004.54125 2004.16375\n",
      " 2003.33875 1997.67    1996.5275  1995.565   1994.48625 1992.90875\n",
      " 1990.35    1988.99    1988.21    1987.95625 1986.85    1986.71\n",
      " 1984.54625 1983.78875 1983.34    1982.7675  1981.6625  1980.3675\n",
      " 1979.5225  1979.425   1979.1375  1978.8125  1978.7425  1978.44875\n",
      " 1978.44    1977.90375 1974.75125 1973.65375 1967.02    1965.19375\n",
      " 1964.6325  1964.35375 1964.0325  1960.7125  1960.63875 1956.8525\n",
      " 1946.3975  1945.9225  1943.67875 1940.06625 1937.55375 1937.16625\n",
      " 1936.64875 1934.95375 1932.52125 1931.75125 1931.285   1930.8325\n",
      " 1930.03375 1922.89875 1922.32625 1922.1375  1920.0775  1919.3775\n",
      " 1918.1525  1918.11625 1917.07875 1913.025   1911.67625 1907.1975\n",
      " 1895.3725  1894.9675  1894.78    1894.75    1891.04    1889.9375\n",
      " 1883.48375 1882.87    1881.4025  1879.5625  1878.83625 1876.38\n",
      " 1875.5125  1873.85375 1872.8825  1872.3     1868.52    1866.62875\n",
      " 1865.81    1858.47    1855.57125 1855.135   1853.96875 1853.5725\n",
      " 1850.91375 1848.96125 1847.60875 1845.25625 1844.41    1843.14875\n",
      " 1842.415   1841.725   1837.12875 1835.1125  1834.08125 1833.36125\n",
      " 1832.18125 1831.14875 1828.81875 1828.17375 1825.91875 1823.38\n",
      " 1821.96125 1821.94125 1821.32375 1820.5725  1816.57125 1814.4625\n",
      " 1812.915   1808.05    1806.75    1805.62125 1803.16375 1802.265\n",
      " 1800.6525  1800.45625 1799.61625 1798.97625 1796.93375 1796.64125\n",
      " 1794.39375 1793.86    1793.34625 1790.12125 1788.1075  1786.3875\n",
      " 1785.3275  1784.2475  1781.2425  1780.28    1777.65875 1775.755\n",
      " 1773.36375 1771.86    1771.50375 1768.95625 1765.99625 1761.59875\n",
      " 1761.3975  1759.33375 1759.0325  1758.74625 1755.9625  1755.02625\n",
      " 1751.34    1750.66875 1748.66    1747.30125 1747.03625 1745.97125\n",
      " 1742.745   1742.6525  1740.93125 1740.92625 1740.6075  1739.2375\n",
      " 1738.9825  1738.9375  1738.87375 1736.1225  1731.04375 1729.62\n",
      " 1728.4675  1724.4525  1724.37625 1724.3425  1724.305   1721.65\n",
      " 1719.65875 1717.29    1716.39375 1716.1625  1715.8275  1715.2225\n",
      " 1713.84625 1709.63125 1709.52625 1707.38    1706.93    1697.96125\n",
      " 1697.20625 1691.15625 1689.5975  1689.32125 1688.98125 1688.17375\n",
      " 1685.51125 1684.045   1683.8875  1683.76875 1676.23875 1675.54\n",
      " 1670.9725  1670.78375 1664.64625 1663.25625 1661.8325  1660.7425\n",
      " 1655.33625 1654.56    1653.87625 1649.0575  1648.63    1646.3225\n",
      " 1645.3725  1642.86125 1640.95875 1639.52125 1637.3075  1634.77625\n",
      " 1632.85625 1632.83875 1626.00125 1624.8325  1622.6475  1614.685\n",
      " 1614.61    1614.21375 1613.25125 1607.8575  1606.23    1602.755\n",
      " 1602.57    1602.1575  1600.72625 1599.64625 1599.64625 1599.1125\n",
      " 1597.4575  1595.68375 1594.37875 1590.21875 1589.52625 1586.63875\n",
      " 1585.55125 1584.99375 1583.165   1578.9725  1577.9375  1575.63625\n",
      " 1574.8125  1572.11125 1570.89125 1570.66625 1568.84    1563.8675\n",
      " 1563.33625 1562.545   1561.79375 1559.62625 1559.005   1558.62625\n",
      " 1558.4925  1557.4825  1553.67    1551.99    1550.2375  1549.37875\n",
      " 1549.33125 1547.945   1547.85625 1547.34875 1547.18375 1545.85875\n",
      " 1543.83    1533.98    1525.6825  1523.14125 1519.21125 1515.8475\n",
      " 1506.3525  1502.73125 1501.76375 1497.5775  1496.00125 1493.79375\n",
      " 1486.90625 1486.435   1484.8525  1481.98625 1480.76875 1477.04375\n",
      " 1469.3425  1464.8625  1461.1875  1461.16125 1460.6125  1460.20375\n",
      " 1454.70625 1453.1325  1452.02875 1450.905   1450.17625 1449.14875\n",
      " 1448.38    1445.165   1443.86875 1442.08    1438.89375 1438.675\n",
      " 1438.4025  1434.02    1423.795   1423.45125 1416.83375 1416.00375\n",
      " 1412.9125  1410.145   1403.395   1397.15625 1394.27    1392.9125\n",
      " 1388.62125 1380.48625 1377.83    1368.27375 1361.1775  1357.385\n",
      " 1356.98375 1347.95    1334.95875 1333.90625 1325.78375 1321.8\n",
      " 1314.47    1310.88    1309.82375 1309.5625  1308.99    1306.86125\n",
      " 1298.33125 1296.9125  1287.3725  1282.4675  1269.83875 1262.05375\n",
      " 1246.55125 1235.61375 1232.82875 1217.1975  1211.47125 1196.12125\n",
      " 1168.87875 1156.4075  1126.80625 1126.6375  1101.09    1091.9675\n",
      " 1059.80875  895.19625]\n"
     ]
    },
    {
     "name": "stderr",
     "output_type": "stream",
     "text": [
      "c:\\Users\\joery\\.virtualenvs\\project_venv-zPAPDwzO\\Lib\\site-packages\\sklearn\\base.py:420: UserWarning: X does not have valid feature names, but KNeighborsRegressor was fitted with feature names\n",
      "  warnings.warn(\n"
     ]
    }
   ],
   "source": [
    "# Predict the projected revenue for the 500 applicants\n",
    "KNNscore = scaler.transform(score)\n",
    "KNNpredictions = KNNmodel.predict(KNNscore)\n",
    "\n",
    "# Sort the predictions in descending order\n",
    "KNNsorted_index = np.argsort(KNNpredictions)[::-1]\n",
    "KNNsorted_predictions = KNNpredictions[KNNsorted_index]\n",
    "\n",
    "print(KNNsorted_predictions)"
   ]
  },
  {
   "attachments": {},
   "cell_type": "markdown",
   "metadata": {},
   "source": [
    "Plot of the Actual outcomes and predicted outcomes: KNN"
   ]
  },
  {
   "cell_type": "code",
   "execution_count": 39,
   "metadata": {},
   "outputs": [
    {
     "data": {
      "image/png": "[encoded data removed]",
      "text/plain": [
       "<Figure size 640x480 with 1 Axes>"
      ]
     },
     "metadata": {},
     "output_type": "display_data"
    },
    {
     "data": {
      "image/png": "[encoded data removed]",
      "text/plain": [
       "<Figure size 640x480 with 1 Axes>"
      ]
     },
     "metadata": {},
     "output_type": "display_data"
    }
   ],
   "source": [
    "# plot the predicted outcomes against the actual outcomes in the testing set\n",
    "plt.scatter(y_test, KNNy_pred)\n",
    "plt.xlabel('Actual outcomes')\n",
    "plt.ylabel('Predicted outcomes')\n",
    "plt.title('Scatter plot of actual vs predicted outcomes')\n",
    "plt.show()\n",
    "\n",
    "\n",
    "# plot the predicted outcomes against the actual outcomes in the testing set\n",
    "plt.scatter(y_val, y_predval)\n",
    "plt.xlabel('Actual outcomes')\n",
    "plt.ylabel('Predicted outcomes')\n",
    "plt.title('Scatter plot of actual vs predicted outcomes (validation set)')\n",
    "plt.show()\n"
   ]
  },
  {
   "attachments": {},
   "cell_type": "markdown",
   "metadata": {},
   "source": [
    "### 2.0.3 Decision Tree"
   ]
  },
  {
   "cell_type": "code",
   "execution_count": 40,
   "metadata": {},
   "outputs": [
    {
     "data": {
      "text/html": [
       "<style>#sk-container-id-3 {color: black;background-color: white;}#sk-container-id-3 pre{padding: 0;}#sk-container-id-3 div.sk-toggleable {background-color: white;}#sk-container-id-3 label.sk-toggleable__label {cursor: pointer;display: block;width: 100%;margin-bottom: 0;padding: 0.3em;box-sizing: border-box;text-align: center;}#sk-container-id-3 label.sk-toggleable__label-arrow:before {content: \"▸\";float: left;margin-right: 0.25em;color: #696969;}#sk-container-id-3 label.sk-toggleable__label-arrow:hover:before {color: black;}#sk-container-id-3 div.sk-estimator:hover label.sk-toggleable__label-arrow:before {color: black;}#sk-container-id-3 div.sk-toggleable__content {max-height: 0;max-width: 0;overflow: hidden;text-align: left;background-color: #f0f8ff;}#sk-container-id-3 div.sk-toggleable__content pre {margin: 0.2em;color: black;border-radius: 0.25em;background-color: #f0f8ff;}#sk-container-id-3 input.sk-toggleable__control:checked~div.sk-toggleable__content {max-height: 200px;max-width: 100%;overflow: auto;}#sk-container-id-3 input.sk-toggleable__control:checked~label.sk-toggleable__label-arrow:before {content: \"▾\";}#sk-container-id-3 div.sk-estimator input.sk-toggleable__control:checked~label.sk-toggleable__label {background-color: #d4ebff;}#sk-container-id-3 div.sk-label input.sk-toggleable__control:checked~label.sk-toggleable__label {background-color: #d4ebff;}#sk-container-id-3 input.sk-hidden--visually {border: 0;clip: rect(1px 1px 1px 1px);clip: rect(1px, 1px, 1px, 1px);height: 1px;margin: -1px;overflow: hidden;padding: 0;position: absolute;width: 1px;}#sk-container-id-3 div.sk-estimator {font-family: monospace;background-color: #f0f8ff;border: 1px dotted black;border-radius: 0.25em;box-sizing: border-box;margin-bottom: 0.5em;}#sk-container-id-3 div.sk-estimator:hover {background-color: #d4ebff;}#sk-container-id-3 div.sk-parallel-item::after {content: \"\";width: 100%;border-bottom: 1px solid gray;flex-grow: 1;}#sk-container-id-3 div.sk-label:hover label.sk-toggleable__label {background-color: #d4ebff;}#sk-container-id-3 div.sk-serial::before {content: \"\";position: absolute;border-left: 1px solid gray;box-sizing: border-box;top: 0;bottom: 0;left: 50%;z-index: 0;}#sk-container-id-3 div.sk-serial {display: flex;flex-direction: column;align-items: center;background-color: white;padding-right: 0.2em;padding-left: 0.2em;position: relative;}#sk-container-id-3 div.sk-item {position: relative;z-index: 1;}#sk-container-id-3 div.sk-parallel {display: flex;align-items: stretch;justify-content: center;background-color: white;position: relative;}#sk-container-id-3 div.sk-item::before, #sk-container-id-3 div.sk-parallel-item::before {content: \"\";position: absolute;border-left: 1px solid gray;box-sizing: border-box;top: 0;bottom: 0;left: 50%;z-index: -1;}#sk-container-id-3 div.sk-parallel-item {display: flex;flex-direction: column;z-index: 1;position: relative;background-color: white;}#sk-container-id-3 div.sk-parallel-item:first-child::after {align-self: flex-end;width: 50%;}#sk-container-id-3 div.sk-parallel-item:last-child::after {align-self: flex-start;width: 50%;}#sk-container-id-3 div.sk-parallel-item:only-child::after {width: 0;}#sk-container-id-3 div.sk-dashed-wrapped {border: 1px dashed gray;margin: 0 0.4em 0.5em 0.4em;box-sizing: border-box;padding-bottom: 0.4em;background-color: white;}#sk-container-id-3 div.sk-label label {font-family: monospace;font-weight: bold;display: inline-block;line-height: 1.2em;}#sk-container-id-3 div.sk-label-container {text-align: center;}#sk-container-id-3 div.sk-container {/* jupyter's `normalize.less` sets `[hidden] { display: none; }` but bootstrap.min.css set `[hidden] { display: none !important; }` so we also need the `!important` here to be able to override the default hidden behavior on the sphinx rendered scikit-learn.org. See: https://github.com/scikit-learn/scikit-learn/issues/21755 */display: inline-block !important;position: relative;}#sk-container-id-3 div.sk-text-repr-fallback {display: none;}</style><div id=\"sk-container-id-3\" class=\"sk-top-container\"><div class=\"sk-text-repr-fallback\"><pre>DecisionTreeRegressor(random_state=0)</pre><b>In a Jupyter environment, please rerun this cell to show the HTML representation or trust the notebook. <br />On GitHub, the HTML representation is unable to render, please try loading this page with nbviewer.org.</b></div><div class=\"sk-container\" hidden><div class=\"sk-item\"><div class=\"sk-estimator sk-toggleable\"><input class=\"sk-toggleable__control sk-hidden--visually\" id=\"sk-estimator-id-3\" type=\"checkbox\" checked><label for=\"sk-estimator-id-3\" class=\"sk-toggleable__label sk-toggleable__label-arrow\">DecisionTreeRegressor</label><div class=\"sk-toggleable__content\"><pre>DecisionTreeRegressor(random_state=0)</pre></div></div></div></div></div>"
      ],
      "text/plain": [
       "DecisionTreeRegressor(random_state=0)"
      ]
     },
     "execution_count": 40,
     "metadata": {},
     "output_type": "execute_result"
    }
   ],
   "source": [
    "from sklearn.tree import DecisionTreeRegressor\n",
    "# Create a decision tree regressor object\n",
    "dt_regressor = DecisionTreeRegressor(random_state=0)\n",
    "\n",
    "# Fit the regressor with the training data\n",
    "dt_regressor.fit(X_train_stand, y_train)"
   ]
  },
  {
   "cell_type": "code",
   "execution_count": 41,
   "metadata": {},
   "outputs": [
    {
     "name": "stdout",
     "output_type": "stream",
     "text": [
      "R^2 Score (Decision Tree Regression):  0.5686868385314154\n",
      "R^2 Score on validation set:  0.41096192481159755\n"
     ]
    }
   ],
   "source": [
    "# Predict the revenue on the testing data\n",
    "y_pred_dt = dt_regressor.predict(X_test_stand)\n",
    "\n",
    "# Compute R^2 score on the testing data\n",
    "r2_score_dt = dt_regressor.score(X_test_stand, y_test)\n",
    "print(\"R^2 Score (Decision Tree Regression): \", r2_score_dt)\n",
    "\n",
    "y_pred_val = dt_regressor.predict(X_val_stand)\n",
    "r2_score_dt_val = dt_regressor.score(X_val_stand, y_val)\n",
    "print(\"R^2 Score on validation set: \", r2_score_dt_val)"
   ]
  },
  {
   "cell_type": "code",
   "execution_count": 42,
   "metadata": {},
   "outputs": [
    {
     "name": "stdout",
     "output_type": "stream",
     "text": [
      "[13529.43   11451.15   10128.6     8140.01    7803.61    7266.59\n",
      "  6820.67    6715.78    5208.93    4938.65    4559.28    4353.15\n",
      "  4318.76    4318.76    4318.76    4281.27    4279.12    4044.41\n",
      "  3945.25    3901.57    3873.31    3863.28    3855.11    3777.81\n",
      "  3775.76    3751.56    3740.37    3630.04    3592.16    3544.87\n",
      "  3536.54    3512.36    3477.51    3390.65    3388.63    3388.63\n",
      "  3381.4     3300.25    3296.23    3292.6     3292.6     3168.4\n",
      "  3134.67    3093.36    3061.69    3045.95    3045.95    3018.99\n",
      "  3018.99    3018.99    2995.26    2995.26    2974.      2974.\n",
      "  2974.      2974.      2972.7025  2926.4     2901.69    2897.1\n",
      "  2891.8     2865.04    2850.73    2843.44    2836.8     2793.45\n",
      "  2784.23    2758.17    2737.3     2731.25    2723.64    2713.05\n",
      "  2713.02    2709.24    2697.974   2681.47    2676.17    2675.32\n",
      "  2675.32    2667.79    2647.58    2645.93    2644.64    2643.48\n",
      "  2643.48    2631.4     2625.12    2617.98    2617.46    2613.79\n",
      "  2610.48    2607.29    2596.67    2596.67    2581.01    2579.15\n",
      "  2577.91    2562.      2548.38    2548.38    2544.7     2534.19\n",
      "  2531.12    2523.6     2517.52    2514.36    2513.46    2499.25\n",
      "  2498.34    2491.73    2491.73    2488.34    2486.08    2479.05\n",
      "  2467.71    2448.05    2440.69    2428.16    2428.16    2422.12\n",
      "  2411.46    2410.55    2408.05    2402.7     2394.37    2374.39\n",
      "  2369.96    2346.89    2344.25    2340.6     2332.4     2331.66\n",
      "  2328.28    2324.87    2323.82    2320.39    2303.51    2290.25\n",
      "  2288.33    2276.4     2276.4     2272.38    2268.6     2266.09\n",
      "  2264.54    2263.      2252.28    2251.77    2250.56    2246.47\n",
      "  2236.33    2228.56    2223.96    2223.81    2217.72    2217.42\n",
      "  2217.42    2217.09    2214.65    2212.45    2186.89    2183.78\n",
      "  2170.57    2170.57    2169.44    2166.96    2166.96    2159.71\n",
      "  2154.955   2148.77    2148.13    2148.13    2147.09    2143.71\n",
      "  2140.74    2107.49    2100.82    2081.48    2081.48    2077.31\n",
      "  2076.21    2072.66    2071.03    2071.03    2069.95    2064.57\n",
      "  2061.6     2055.98    2055.21    2055.21    2053.48    2052.77\n",
      "  2046.46    2037.97    2037.      2036.97    2028.29    2024.16\n",
      "  2021.24    2017.59    2006.33    2003.32    1995.46    1981.06\n",
      "  1975.14    1968.41    1968.41    1967.99    1966.12    1961.02\n",
      "  1957.81    1951.36    1944.85    1938.98    1938.98    1938.98\n",
      "  1937.87    1936.51    1933.13    1929.85    1914.57    1914.23\n",
      "  1910.32    1908.48    1884.33    1883.41    1881.72    1878.12\n",
      "  1874.96    1862.91    1862.44    1862.44    1860.38    1858.19\n",
      "  1854.63    1853.61    1852.79    1843.27    1840.13    1840.13\n",
      "  1838.55    1830.31    1828.86    1819.12    1813.9     1813.9\n",
      "  1811.4     1802.15    1798.1     1788.62    1783.52    1781.85\n",
      "  1779.73    1778.91    1778.19    1777.08    1770.33    1770.33\n",
      "  1763.93    1755.89    1743.31    1735.1     1731.1     1729.37\n",
      "  1722.79    1719.38    1718.26    1712.6     1701.16    1700.88\n",
      "  1698.96    1696.46    1695.13    1693.73    1689.09    1683.4\n",
      "  1683.4     1681.32    1678.57    1676.75    1672.57    1671.54\n",
      "  1671.      1669.01    1655.69    1654.93    1653.56    1651.4\n",
      "  1649.06    1649.06    1646.5     1643.77    1635.58    1635.58\n",
      "  1634.28    1632.41    1624.55    1624.3     1624.08    1624.08\n",
      "  1622.7     1621.78    1615.7     1615.43    1607.17    1603.61\n",
      "  1603.61    1599.31    1598.45    1597.11    1597.11    1596.45\n",
      "  1595.97    1593.91    1592.29    1589.44    1588.09    1585.74\n",
      "  1577.58    1576.59    1575.2     1574.75    1569.98    1568.34\n",
      "  1568.29    1567.93    1563.02    1553.28    1552.38    1552.06\n",
      "  1551.98    1547.94    1546.47    1542.6     1535.84    1530.44\n",
      "  1527.66    1522.15    1522.15    1522.01    1520.15    1515.61\n",
      "  1515.5     1510.2     1505.46    1503.02    1501.16    1500.38\n",
      "  1498.96    1495.01    1487.23    1486.46    1486.05    1486.05\n",
      "  1485.1     1482.03    1474.37    1474.09    1466.45    1465.23\n",
      "  1462.51    1452.83    1449.8     1440.42    1438.82    1436.5\n",
      "  1435.21    1433.83    1430.57    1424.28    1422.78    1410.63\n",
      "  1408.19    1406.25    1400.32    1392.93    1383.13    1366.32\n",
      "  1362.15    1358.11    1357.43    1347.91    1347.31    1346.23\n",
      "  1345.25    1344.72    1343.56    1343.49    1343.33    1337.24\n",
      "  1326.03    1325.32    1325.05    1322.77    1319.14    1312.66\n",
      "  1302.41    1302.1     1300.88    1300.61    1296.2     1291.45\n",
      "  1291.      1287.81    1287.3     1287.2     1278.59    1276.26\n",
      "  1264.08    1255.99    1255.99    1253.71    1251.71    1251.01\n",
      "  1250.73    1250.59    1250.59    1249.31    1238.62    1233.55\n",
      "  1227.7     1227.17    1226.37    1225.8     1211.38    1195.56\n",
      "  1174.77    1174.55    1173.94    1155.9     1146.06    1144.81\n",
      "  1143.32    1142.16    1129.99    1118.76    1114.27    1108.49\n",
      "  1088.59    1087.32    1082.58    1076.83    1062.83    1057.05\n",
      "  1054.18    1050.65    1049.1     1037.88    1034.56    1034.\n",
      "  1029.98     999.15     999.15     987.03     986.01     981.18\n",
      "   978.85     977.45     976.23     973.55     958.09     949.01\n",
      "   941.91     940.3      926.66     923.15     908.14     901.7\n",
      "   901.68     866.61     860.56     853.62     851.73     836.11\n",
      "   834.95     834.14     826.85     819.66     811.09     784.84\n",
      "   777.9      752.48     752.48     751.23     749.23     742.87\n",
      "   736.93     723.91     711.77     711.77     695.       671.57\n",
      "   657.73     639.07     638.35     638.35     631.94     624.85\n",
      "   615.15     453.86  ]\n"
     ]
    },
    {
     "name": "stderr",
     "output_type": "stream",
     "text": [
      "c:\\Users\\joery\\.virtualenvs\\project_venv-zPAPDwzO\\Lib\\site-packages\\sklearn\\base.py:420: UserWarning: X does not have valid feature names, but DecisionTreeRegressor was fitted with feature names\n",
      "  warnings.warn(\n"
     ]
    }
   ],
   "source": [
    "# Predict the projected revenue for the 500 applicants\n",
    "\n",
    "DTscore = scaler.transform(score)\n",
    "DTpredictions = dt_regressor.predict(DTscore)\n",
    "\n",
    "# Sort the predictions in descending order\n",
    "DTsorted_index = np.argsort(DTpredictions)[::-1]\n",
    "DTsorted_predictions = DTpredictions[DTsorted_index]\n",
    "\n",
    "print(DTsorted_predictions)"
   ]
  },
  {
   "attachments": {},
   "cell_type": "markdown",
   "metadata": {},
   "source": [
    "Plot of the Actual outcomes and predicted outcomes: Decision Tree"
   ]
  },
  {
   "cell_type": "code",
   "execution_count": 43,
   "metadata": {},
   "outputs": [
    {
     "data": {
      "image/png": "[encoded data removed]",
      "text/plain": [
       "<Figure size 640x480 with 1 Axes>"
      ]
     },
     "metadata": {},
     "output_type": "display_data"
    },
    {
     "data": {
      "image/png": "[encoded data removed]",
      "text/plain": [
       "<Figure size 640x480 with 1 Axes>"
      ]
     },
     "metadata": {},
     "output_type": "display_data"
    }
   ],
   "source": [
    "# plot the predicted outcomes against the actual outcomes in the testing set\n",
    "plt.scatter(y_test, y_pred_dt)\n",
    "plt.xlabel('Actual outcomes')\n",
    "plt.ylabel('Predicted outcomes')\n",
    "plt.title('Scatter plot of actual vs predicted outcomes')\n",
    "plt.show()\n",
    "\n",
    "plt.scatter(y_val, y_pred_val)\n",
    "plt.xlabel('Actual outcomes')\n",
    "plt.ylabel('Predicted outcomes')\n",
    "plt.title('Scatter plot of actual vs predicted outcomes (validation set)')\n",
    "plt.show()"
   ]
  },
  {
   "attachments": {},
   "cell_type": "markdown",
   "metadata": {},
   "source": [
    "### 2.0.4 Random Forest "
   ]
  },
  {
   "cell_type": "code",
   "execution_count": 44,
   "metadata": {},
   "outputs": [
    {
     "data": {
      "text/html": [
       "<style>#sk-container-id-4 {color: black;background-color: white;}#sk-container-id-4 pre{padding: 0;}#sk-container-id-4 div.sk-toggleable {background-color: white;}#sk-container-id-4 label.sk-toggleable__label {cursor: pointer;display: block;width: 100%;margin-bottom: 0;padding: 0.3em;box-sizing: border-box;text-align: center;}#sk-container-id-4 label.sk-toggleable__label-arrow:before {content: \"▸\";float: left;margin-right: 0.25em;color: #696969;}#sk-container-id-4 label.sk-toggleable__label-arrow:hover:before {color: black;}#sk-container-id-4 div.sk-estimator:hover label.sk-toggleable__label-arrow:before {color: black;}#sk-container-id-4 div.sk-toggleable__content {max-height: 0;max-width: 0;overflow: hidden;text-align: left;background-color: #f0f8ff;}#sk-container-id-4 div.sk-toggleable__content pre {margin: 0.2em;color: black;border-radius: 0.25em;background-color: #f0f8ff;}#sk-container-id-4 input.sk-toggleable__control:checked~div.sk-toggleable__content {max-height: 200px;max-width: 100%;overflow: auto;}#sk-container-id-4 input.sk-toggleable__control:checked~label.sk-toggleable__label-arrow:before {content: \"▾\";}#sk-container-id-4 div.sk-estimator input.sk-toggleable__control:checked~label.sk-toggleable__label {background-color: #d4ebff;}#sk-container-id-4 div.sk-label input.sk-toggleable__control:checked~label.sk-toggleable__label {background-color: #d4ebff;}#sk-container-id-4 input.sk-hidden--visually {border: 0;clip: rect(1px 1px 1px 1px);clip: rect(1px, 1px, 1px, 1px);height: 1px;margin: -1px;overflow: hidden;padding: 0;position: absolute;width: 1px;}#sk-container-id-4 div.sk-estimator {font-family: monospace;background-color: #f0f8ff;border: 1px dotted black;border-radius: 0.25em;box-sizing: border-box;margin-bottom: 0.5em;}#sk-container-id-4 div.sk-estimator:hover {background-color: #d4ebff;}#sk-container-id-4 div.sk-parallel-item::after {content: \"\";width: 100%;border-bottom: 1px solid gray;flex-grow: 1;}#sk-container-id-4 div.sk-label:hover label.sk-toggleable__label {background-color: #d4ebff;}#sk-container-id-4 div.sk-serial::before {content: \"\";position: absolute;border-left: 1px solid gray;box-sizing: border-box;top: 0;bottom: 0;left: 50%;z-index: 0;}#sk-container-id-4 div.sk-serial {display: flex;flex-direction: column;align-items: center;background-color: white;padding-right: 0.2em;padding-left: 0.2em;position: relative;}#sk-container-id-4 div.sk-item {position: relative;z-index: 1;}#sk-container-id-4 div.sk-parallel {display: flex;align-items: stretch;justify-content: center;background-color: white;position: relative;}#sk-container-id-4 div.sk-item::before, #sk-container-id-4 div.sk-parallel-item::before {content: \"\";position: absolute;border-left: 1px solid gray;box-sizing: border-box;top: 0;bottom: 0;left: 50%;z-index: -1;}#sk-container-id-4 div.sk-parallel-item {display: flex;flex-direction: column;z-index: 1;position: relative;background-color: white;}#sk-container-id-4 div.sk-parallel-item:first-child::after {align-self: flex-end;width: 50%;}#sk-container-id-4 div.sk-parallel-item:last-child::after {align-self: flex-start;width: 50%;}#sk-container-id-4 div.sk-parallel-item:only-child::after {width: 0;}#sk-container-id-4 div.sk-dashed-wrapped {border: 1px dashed gray;margin: 0 0.4em 0.5em 0.4em;box-sizing: border-box;padding-bottom: 0.4em;background-color: white;}#sk-container-id-4 div.sk-label label {font-family: monospace;font-weight: bold;display: inline-block;line-height: 1.2em;}#sk-container-id-4 div.sk-label-container {text-align: center;}#sk-container-id-4 div.sk-container {/* jupyter's `normalize.less` sets `[hidden] { display: none; }` but bootstrap.min.css set `[hidden] { display: none !important; }` so we also need the `!important` here to be able to override the default hidden behavior on the sphinx rendered scikit-learn.org. See: https://github.com/scikit-learn/scikit-learn/issues/21755 */display: inline-block !important;position: relative;}#sk-container-id-4 div.sk-text-repr-fallback {display: none;}</style><div id=\"sk-container-id-4\" class=\"sk-top-container\"><div class=\"sk-text-repr-fallback\"><pre>RandomForestRegressor(random_state=42)</pre><b>In a Jupyter environment, please rerun this cell to show the HTML representation or trust the notebook. <br />On GitHub, the HTML representation is unable to render, please try loading this page with nbviewer.org.</b></div><div class=\"sk-container\" hidden><div class=\"sk-item\"><div class=\"sk-estimator sk-toggleable\"><input class=\"sk-toggleable__control sk-hidden--visually\" id=\"sk-estimator-id-4\" type=\"checkbox\" checked><label for=\"sk-estimator-id-4\" class=\"sk-toggleable__label sk-toggleable__label-arrow\">RandomForestRegressor</label><div class=\"sk-toggleable__content\"><pre>RandomForestRegressor(random_state=42)</pre></div></div></div></div></div>"
      ],
      "text/plain": [
       "RandomForestRegressor(random_state=42)"
      ]
     },
     "execution_count": 44,
     "metadata": {},
     "output_type": "execute_result"
    }
   ],
   "source": [
    "# This algorithm has a score of 0.7581997911409797\n",
    "from sklearn.ensemble import RandomForestRegressor\n",
    "\n",
    "# Instantiate the model\n",
    "rf = RandomForestRegressor(n_estimators=100, random_state=42)\n",
    "\n",
    "# Fit the model to the training data\n",
    "rf.fit(X_train_stand, y_train)\n"
   ]
  },
  {
   "cell_type": "code",
   "execution_count": 45,
   "metadata": {},
   "outputs": [
    {
     "name": "stdout",
     "output_type": "stream",
     "text": [
      "r2 score on test set: 0.7779437379498056\n",
      "r2 score on validation set: 0.6878879761065633\n"
     ]
    }
   ],
   "source": [
    "# Predict on the test data\n",
    "RFy_pred = rf.predict(X_test_stand)\n",
    "\n",
    "# Evaluate the model using r2 score\n",
    "RFr2 = r2_score(y_test, RFy_pred)\n",
    "print(\"r2 score on test set:\", RFr2)\n",
    "\n",
    "# Predict on the validation data\n",
    "RFy_predval = rf.predict(X_val_stand)\n",
    "\n",
    "# Evaluate the model using r2 score\n",
    "RFr2 = r2_score(y_val, RFy_predval)\n",
    "print(\"r2 score on validation set:\", RFr2)"
   ]
  },
  {
   "cell_type": "code",
   "execution_count": 46,
   "metadata": {},
   "outputs": [
    {
     "name": "stderr",
     "output_type": "stream",
     "text": [
      "c:\\Users\\joery\\.virtualenvs\\project_venv-zPAPDwzO\\Lib\\site-packages\\sklearn\\base.py:420: UserWarning: X does not have valid feature names, but RandomForestRegressor was fitted with feature names\n",
      "  warnings.warn(\n"
     ]
    }
   ],
   "source": [
    "# Predict the projected revenue for the 500 applicants\n",
    "RFscore = scaler.transform(score)\n",
    "RFpredictions = rf.predict(RFscore)\n",
    "\n",
    "# Sort the predictions in descending order\n",
    "RFsorted_index = np.argsort(RFpredictions)[::-1]\n",
    "RFsorted_predictions = RFpredictions[RFsorted_index]"
   ]
  },
  {
   "attachments": {},
   "cell_type": "markdown",
   "metadata": {},
   "source": [
    "Plot of the Actual outcomes and predicted outcomes: Random Forrest"
   ]
  },
  {
   "cell_type": "code",
   "execution_count": 47,
   "metadata": {},
   "outputs": [
    {
     "data": {
      "image/png": "[encoded data removed]",
      "text/plain": [
       "<Figure size 640x480 with 1 Axes>"
      ]
     },
     "metadata": {},
     "output_type": "display_data"
    },
    {
     "data": {
      "image/png": "[encoded data removed]",
      "text/plain": [
       "<Figure size 640x480 with 1 Axes>"
      ]
     },
     "metadata": {},
     "output_type": "display_data"
    }
   ],
   "source": [
    "plt.scatter(y_test, RFy_pred)\n",
    "plt.xlabel('Actual outcomes')\n",
    "plt.ylabel('Predicted outcomes')\n",
    "plt.title('Scatter plot of actual vs predicted outcomes')\n",
    "plt.show()\n",
    "\n",
    "plt.scatter(y_val, RFy_predval)\n",
    "plt.xlabel('Actual outcomes')\n",
    "plt.ylabel('Predicted outcomes')\n",
    "plt.title('Scatter plot of actual vs predicted outcomes')\n",
    "plt.show()"
   ]
  },
  {
   "attachments": {},
   "cell_type": "markdown",
   "metadata": {},
   "source": [
    "### 2.0.5 Gradient Boosting"
   ]
  },
  {
   "cell_type": "code",
   "execution_count": 48,
   "metadata": {},
   "outputs": [
    {
     "data": {
      "text/html": [
       "<style>#sk-container-id-5 {color: black;background-color: white;}#sk-container-id-5 pre{padding: 0;}#sk-container-id-5 div.sk-toggleable {background-color: white;}#sk-container-id-5 label.sk-toggleable__label {cursor: pointer;display: block;width: 100%;margin-bottom: 0;padding: 0.3em;box-sizing: border-box;text-align: center;}#sk-container-id-5 label.sk-toggleable__label-arrow:before {content: \"▸\";float: left;margin-right: 0.25em;color: #696969;}#sk-container-id-5 label.sk-toggleable__label-arrow:hover:before {color: black;}#sk-container-id-5 div.sk-estimator:hover label.sk-toggleable__label-arrow:before {color: black;}#sk-container-id-5 div.sk-toggleable__content {max-height: 0;max-width: 0;overflow: hidden;text-align: left;background-color: #f0f8ff;}#sk-container-id-5 div.sk-toggleable__content pre {margin: 0.2em;color: black;border-radius: 0.25em;background-color: #f0f8ff;}#sk-container-id-5 input.sk-toggleable__control:checked~div.sk-toggleable__content {max-height: 200px;max-width: 100%;overflow: auto;}#sk-container-id-5 input.sk-toggleable__control:checked~label.sk-toggleable__label-arrow:before {content: \"▾\";}#sk-container-id-5 div.sk-estimator input.sk-toggleable__control:checked~label.sk-toggleable__label {background-color: #d4ebff;}#sk-container-id-5 div.sk-label input.sk-toggleable__control:checked~label.sk-toggleable__label {background-color: #d4ebff;}#sk-container-id-5 input.sk-hidden--visually {border: 0;clip: rect(1px 1px 1px 1px);clip: rect(1px, 1px, 1px, 1px);height: 1px;margin: -1px;overflow: hidden;padding: 0;position: absolute;width: 1px;}#sk-container-id-5 div.sk-estimator {font-family: monospace;background-color: #f0f8ff;border: 1px dotted black;border-radius: 0.25em;box-sizing: border-box;margin-bottom: 0.5em;}#sk-container-id-5 div.sk-estimator:hover {background-color: #d4ebff;}#sk-container-id-5 div.sk-parallel-item::after {content: \"\";width: 100%;border-bottom: 1px solid gray;flex-grow: 1;}#sk-container-id-5 div.sk-label:hover label.sk-toggleable__label {background-color: #d4ebff;}#sk-container-id-5 div.sk-serial::before {content: \"\";position: absolute;border-left: 1px solid gray;box-sizing: border-box;top: 0;bottom: 0;left: 50%;z-index: 0;}#sk-container-id-5 div.sk-serial {display: flex;flex-direction: column;align-items: center;background-color: white;padding-right: 0.2em;padding-left: 0.2em;position: relative;}#sk-container-id-5 div.sk-item {position: relative;z-index: 1;}#sk-container-id-5 div.sk-parallel {display: flex;align-items: stretch;justify-content: center;background-color: white;position: relative;}#sk-container-id-5 div.sk-item::before, #sk-container-id-5 div.sk-parallel-item::before {content: \"\";position: absolute;border-left: 1px solid gray;box-sizing: border-box;top: 0;bottom: 0;left: 50%;z-index: -1;}#sk-container-id-5 div.sk-parallel-item {display: flex;flex-direction: column;z-index: 1;position: relative;background-color: white;}#sk-container-id-5 div.sk-parallel-item:first-child::after {align-self: flex-end;width: 50%;}#sk-container-id-5 div.sk-parallel-item:last-child::after {align-self: flex-start;width: 50%;}#sk-container-id-5 div.sk-parallel-item:only-child::after {width: 0;}#sk-container-id-5 div.sk-dashed-wrapped {border: 1px dashed gray;margin: 0 0.4em 0.5em 0.4em;box-sizing: border-box;padding-bottom: 0.4em;background-color: white;}#sk-container-id-5 div.sk-label label {font-family: monospace;font-weight: bold;display: inline-block;line-height: 1.2em;}#sk-container-id-5 div.sk-label-container {text-align: center;}#sk-container-id-5 div.sk-container {/* jupyter's `normalize.less` sets `[hidden] { display: none; }` but bootstrap.min.css set `[hidden] { display: none !important; }` so we also need the `!important` here to be able to override the default hidden behavior on the sphinx rendered scikit-learn.org. See: https://github.com/scikit-learn/scikit-learn/issues/21755 */display: inline-block !important;position: relative;}#sk-container-id-5 div.sk-text-repr-fallback {display: none;}</style><div id=\"sk-container-id-5\" class=\"sk-top-container\"><div class=\"sk-text-repr-fallback\"><pre>GradientBoostingRegressor()</pre><b>In a Jupyter environment, please rerun this cell to show the HTML representation or trust the notebook. <br />On GitHub, the HTML representation is unable to render, please try loading this page with nbviewer.org.</b></div><div class=\"sk-container\" hidden><div class=\"sk-item\"><div class=\"sk-estimator sk-toggleable\"><input class=\"sk-toggleable__control sk-hidden--visually\" id=\"sk-estimator-id-5\" type=\"checkbox\" checked><label for=\"sk-estimator-id-5\" class=\"sk-toggleable__label sk-toggleable__label-arrow\">GradientBoostingRegressor</label><div class=\"sk-toggleable__content\"><pre>GradientBoostingRegressor()</pre></div></div></div></div></div>"
      ],
      "text/plain": [
       "GradientBoostingRegressor()"
      ]
     },
     "execution_count": 48,
     "metadata": {},
     "output_type": "execute_result"
    }
   ],
   "source": [
    "# Dit algoritme heeft een score van 0.771681378659433\n",
    "from sklearn.ensemble import GradientBoostingRegressor\n",
    "from sklearn.metrics import r2_score\n",
    "\n",
    "# Instantiate the model\n",
    "GBmodel = GradientBoostingRegressor()\n",
    "\n",
    "# Fit the model on the training data\n",
    "GBmodel.fit(X_train_stand, y_train)"
   ]
  },
  {
   "cell_type": "code",
   "execution_count": 49,
   "metadata": {},
   "outputs": [
    {
     "name": "stdout",
     "output_type": "stream",
     "text": [
      "R-squared score on testing data: 0.8007291970030994\n",
      "R2 score for validation set: 0.7335967275610367\n"
     ]
    }
   ],
   "source": [
    "# Make predictions on the testing data\n",
    "GBy_pred = GBmodel.predict(X_test_stand)\n",
    "\n",
    "# Calculate the R-squared score on the testing data\n",
    "GBr2 = r2_score(y_test, GBy_pred)\n",
    "print(\"R-squared score on testing data:\", GBr2)\n",
    "\n",
    "GBy_predval = GBmodel.predict(X_val_stand)\n",
    "GBr2val = r2_score(y_val, GBy_predval)\n",
    "print(\"R2 score for validation set:\", GBr2val)"
   ]
  },
  {
   "cell_type": "code",
   "execution_count": 50,
   "metadata": {},
   "outputs": [
    {
     "name": "stdout",
     "output_type": "stream",
     "text": [
      "[16816.06187319 12402.95035116 11239.50788834  9872.37447822\n",
      "  8835.75760684  7430.86242188  6748.63614929  6311.98419545\n",
      "  4928.63342124  4613.5637078   4317.91340869  4142.84099054\n",
      "  3873.28517931  3659.84968942  3469.63194884  3425.70321567\n",
      "  3400.69227791  3397.1824784   3386.3448928   3380.25114066\n",
      "  3374.77776221  3307.20901143  3193.3618407   3167.18247091\n",
      "  3138.56400042  3135.91474526  3135.77068947  3133.42547795\n",
      "  3126.61818305  3124.98725878  3090.44917834  3064.11179039\n",
      "  3033.80548193  3033.77947944  3028.25185267  3025.39371265\n",
      "  3022.49992371  2997.78986711  2949.46191132  2947.36644398\n",
      "  2934.15874352  2929.97402873  2888.85243789  2829.34910835\n",
      "  2826.58459397  2814.18745216  2797.45533916  2781.64858041\n",
      "  2688.88982558  2666.20140822  2657.69223098  2655.8483605\n",
      "  2649.85994429  2640.73402398  2620.95936488  2612.97841807\n",
      "  2582.190429    2582.190429    2574.38617935  2569.49393129\n",
      "  2552.84534038  2550.31376597  2535.89610899  2519.9351403\n",
      "  2501.83030003  2487.63917301  2477.45956949  2463.46709066\n",
      "  2456.37502079  2422.53039058  2388.96727646  2372.06988305\n",
      "  2365.00445553  2351.53042757  2344.9875735   2324.27366443\n",
      "  2316.46639512  2301.39659089  2300.53810367  2298.44234549\n",
      "  2290.34219586  2288.22392786  2280.9301629   2250.82957997\n",
      "  2248.05690362  2236.97515716  2226.54251872  2218.33539422\n",
      "  2217.56477797  2206.98732474  2198.65945862  2197.99429909\n",
      "  2195.7948049   2175.68629906  2174.92973323  2165.96099681\n",
      "  2159.76918493  2158.67283072  2153.51917617  2132.3503147\n",
      "  2127.09913097  2126.54801922  2124.17230947  2124.11427994\n",
      "  2112.94349771  2107.55049598  2107.14695049  2088.48652718\n",
      "  2087.79923307  2087.33149024  2086.87378133  2086.70308471\n",
      "  2086.66487039  2085.18765714  2084.51657818  2076.39438119\n",
      "  2071.73811762  2069.46225408  2068.58123364  2068.55791015\n",
      "  2064.45940017  2062.53668115  2056.2579938   2051.90481634\n",
      "  2049.99249846  2049.03024354  2047.93597251  2047.8578916\n",
      "  2044.84201267  2039.92456226  2038.71963732  2038.27925681\n",
      "  2037.02711452  2036.41059263  2035.09760575  2034.53746509\n",
      "  2025.44050893  2016.07228694  2008.0355274   2007.99412362\n",
      "  2006.57617947  2006.20019366  1999.021048    1991.23458628\n",
      "  1989.90295699  1983.97166774  1982.79827838  1978.58526375\n",
      "  1978.12400008  1977.68375695  1976.4947916   1974.3254862\n",
      "  1968.75399263  1967.19114567  1966.05967547  1960.70020428\n",
      "  1959.79659258  1957.34513972  1957.30386358  1957.1058155\n",
      "  1954.78013531  1953.97246924  1953.96341384  1947.82056592\n",
      "  1943.39459315  1940.00808201  1939.8104975   1939.7703677\n",
      "  1937.73908084  1937.50294208  1936.39063136  1933.75310526\n",
      "  1933.54939494  1931.69410892  1931.5291169   1927.11549129\n",
      "  1924.0078539   1923.12541212  1921.51291705  1920.1896545\n",
      "  1919.64777524  1918.22992305  1912.94097173  1912.58716852\n",
      "  1909.83849277  1907.10824369  1906.73556443  1906.68675904\n",
      "  1903.02471721  1902.66317998  1902.20426892  1901.62416227\n",
      "  1900.271999    1892.35719026  1888.16568317  1885.31892206\n",
      "  1881.47756654  1877.90900517  1875.94387701  1874.48759624\n",
      "  1868.59371051  1868.03166782  1866.28869274  1865.68018318\n",
      "  1865.64693238  1861.8565401   1861.38396071  1861.16775062\n",
      "  1860.92407497  1851.39821279  1850.22272984  1848.94462676\n",
      "  1846.40716048  1846.10916063  1845.68490801  1842.10007226\n",
      "  1838.79222955  1838.19124276  1837.68606516  1835.82890455\n",
      "  1831.44283084  1830.63643288  1829.74153956  1827.65243577\n",
      "  1827.62552746  1826.78617879  1825.96635832  1825.45981613\n",
      "  1825.10767653  1821.72011351  1817.63263912  1817.50443625\n",
      "  1814.51158554  1814.05795623  1813.24442691  1810.66908666\n",
      "  1810.472153    1804.96606317  1800.1869864   1798.27946142\n",
      "  1794.26534233  1793.74525635  1793.35092476  1784.00073975\n",
      "  1781.45872571  1779.36792147  1776.15399289  1775.13865495\n",
      "  1773.2914652   1772.02975364  1771.59554216  1769.65550227\n",
      "  1765.42334731  1764.56036782  1764.45003196  1762.66907504\n",
      "  1762.11994108  1756.360543    1755.68952791  1754.91767911\n",
      "  1754.59601246  1753.46517608  1750.85970422  1748.20137044\n",
      "  1745.83865389  1743.95911127  1741.65577102  1740.68492595\n",
      "  1736.25985065  1735.69121523  1733.77957568  1733.14868741\n",
      "  1730.12287002  1728.54652639  1727.88357647  1725.93838851\n",
      "  1725.40096156  1725.38579207  1723.11513657  1722.58976069\n",
      "  1721.28353373  1720.22755247  1719.44205048  1716.86664923\n",
      "  1716.30638993  1713.56325251  1710.56687207  1708.89719562\n",
      "  1704.60463731  1703.19559852  1702.53515825  1699.26507963\n",
      "  1690.05995736  1688.19638056  1686.81594564  1685.91965944\n",
      "  1683.74431779  1683.37614501  1681.70618361  1681.29275826\n",
      "  1681.09627137  1680.70616839  1680.15201121  1674.60760436\n",
      "  1670.18383545  1669.35987133  1663.96062613  1662.50022203\n",
      "  1655.50275522  1655.34332039  1650.24019157  1649.4491474\n",
      "  1647.00637485  1646.64101685  1636.12193014  1635.10211306\n",
      "  1633.81649743  1632.45160922  1632.12071439  1631.8255797\n",
      "  1630.31190807  1625.9369568   1625.63543109  1623.08364912\n",
      "  1620.95639447  1620.83620882  1614.99811182  1614.00165809\n",
      "  1610.18413593  1607.49885663  1604.23192007  1602.66002176\n",
      "  1598.81043613  1593.32585531  1592.6026511   1588.90893851\n",
      "  1588.11248229  1586.61995629  1585.37390238  1583.1044957\n",
      "  1582.18882344  1580.61541738  1578.47841657  1577.41430064\n",
      "  1576.30522365  1569.51497777  1566.743108    1566.2707439\n",
      "  1565.31117409  1558.08413271  1556.51736956  1556.30134921\n",
      "  1547.51383751  1543.14068015  1541.27200991  1540.99598652\n",
      "  1540.35674825  1531.218596    1527.49187826  1525.18166907\n",
      "  1525.07680314  1524.72723775  1522.28053864  1517.50753464\n",
      "  1517.47367507  1516.65489431  1509.71589097  1499.32781629\n",
      "  1498.17288382  1497.14878042  1495.52628521  1495.52628521\n",
      "  1493.35826904  1492.16050135  1491.29414691  1490.70962225\n",
      "  1489.69138956  1485.82458273  1482.72781185  1477.50031611\n",
      "  1477.10544388  1475.28421546  1471.78605614  1464.30643722\n",
      "  1463.14363867  1463.05272027  1460.81415452  1457.83226606\n",
      "  1457.68136021  1456.27427425  1453.56413307  1449.2352263\n",
      "  1447.74748846  1447.21726391  1445.79122761  1442.75011914\n",
      "  1441.96481142  1440.47825182  1438.9145204   1438.64992878\n",
      "  1434.17821644  1432.69713819  1431.41608185  1430.99649398\n",
      "  1427.7118144   1426.18655572  1425.41993769  1421.04059995\n",
      "  1420.57857574  1419.72259601  1419.45145771  1418.01080567\n",
      "  1414.02652248  1412.72135982  1410.28349164  1408.98654924\n",
      "  1407.56011654  1406.7441548   1404.53565178  1399.82072881\n",
      "  1399.06884664  1394.07207908  1392.54420278  1372.18141621\n",
      "  1370.22262942  1365.56509243  1364.65231844  1364.29339687\n",
      "  1362.77388264  1362.4395226   1360.71816065  1359.05943998\n",
      "  1357.19409248  1357.07832217  1355.35090678  1353.53526403\n",
      "  1352.3063401   1347.65536243  1340.27939008  1340.16642504\n",
      "  1339.00579845  1336.0707423   1335.83090341  1326.66127969\n",
      "  1324.78249975  1318.57925902  1318.3583313   1312.35480598\n",
      "  1309.66660193  1307.72601825  1306.55678558  1300.39373534\n",
      "  1298.51659282  1291.53637922  1285.62015762  1284.70443511\n",
      "  1282.0610768   1278.10049588  1275.84600654  1270.1005481\n",
      "  1269.2129482   1266.82682529  1257.01481548  1254.49474517\n",
      "  1251.0885567   1244.91647927  1242.40036862  1241.16105548\n",
      "  1231.29023177  1222.51667552  1214.78847333  1205.34724716\n",
      "  1203.6152696   1203.13696029  1195.56707595  1195.09461431\n",
      "  1185.27111888  1180.98057067  1178.12212524  1177.3609925\n",
      "  1176.88535671  1170.70962614  1168.31729131  1165.61567413\n",
      "  1164.72362874  1160.98051046  1158.10835099  1143.41730525\n",
      "  1133.53724941  1127.09153817  1126.38199593  1124.85654883\n",
      "  1118.9853637   1076.64692505  1072.07229521  1048.50216429\n",
      "  1038.74794351  1005.54426261   987.83538797   980.95311409]\n"
     ]
    },
    {
     "name": "stderr",
     "output_type": "stream",
     "text": [
      "c:\\Users\\joery\\.virtualenvs\\project_venv-zPAPDwzO\\Lib\\site-packages\\sklearn\\base.py:420: UserWarning: X does not have valid feature names, but GradientBoostingRegressor was fitted with feature names\n",
      "  warnings.warn(\n"
     ]
    }
   ],
   "source": [
    "# Predict the projected revenue for the 500 applicants\n",
    "\n",
    "GBscore = scaler.transform(score)\n",
    "GBpredictions = GBmodel.predict(GBscore)\n",
    "\n",
    "# Sort the predictions in descending order\n",
    "GBsorted_index = np.argsort(GBpredictions)[::-1]\n",
    "GBsorted_predictions = GBpredictions[GBsorted_index]\n",
    "\n",
    "print(GBsorted_predictions)"
   ]
  },
  {
   "attachments": {},
   "cell_type": "markdown",
   "metadata": {},
   "source": [
    "Plot of the Actual outcomes and predicted outcomes: Gradient Boosting"
   ]
  },
  {
   "cell_type": "code",
   "execution_count": 51,
   "metadata": {},
   "outputs": [
    {
     "data": {
      "image/png": "[encoded data removed]",
      "text/plain": [
       "<Figure size 640x480 with 1 Axes>"
      ]
     },
     "metadata": {},
     "output_type": "display_data"
    },
    {
     "data": {
      "image/png": "[encoded data removed]",
      "text/plain": [
       "<Figure size 640x480 with 1 Axes>"
      ]
     },
     "metadata": {},
     "output_type": "display_data"
    }
   ],
   "source": [
    "plt.scatter(y_test, GBy_pred)\n",
    "plt.xlabel('Actual outcomes')\n",
    "plt.ylabel('Predicted outcomes')\n",
    "plt.title('Scatter plot of actual vs predicted outcomes')\n",
    "plt.show()\n",
    "\n",
    "\n",
    "plt.scatter(y_val, GBy_predval)\n",
    "plt.xlabel('Actual outcomes')\n",
    "plt.ylabel('Predicted outcomes')\n",
    "plt.title('Scatter plot of actual vs predicted outcomes')\n",
    "plt.show()\n"
   ]
  },
  {
   "attachments": {},
   "cell_type": "markdown",
   "metadata": {},
   "source": [
    "### Rate the models"
   ]
  },
  {
   "cell_type": "code",
   "execution_count": 52,
   "metadata": {},
   "outputs": [
    {
     "name": "stdout",
     "output_type": "stream",
     "text": [
      "Linear Regression R-squared on validation set: 0.17380643438615606\n",
      "KNN Regression R-squared on validation set: 0.015405506742735664\n",
      "Decision Tree Regression R-squared on validation set: 0.41096192481159755\n",
      "Random forest R-squared on validation set: 0.6878879761065633\n",
      "Gradient boosting R-squared on validation set:  0.7372378356795912\n"
     ]
    }
   ],
   "source": [
    "\n",
    "# Fit each model on the training set\n",
    "LRmodel.fit(X_train_stand, y_train)\n",
    "KNNmodel.fit(X_train_stand, y_train)\n",
    "dt_regressor.fit(X_train_stand, y_train)\n",
    "rf.fit(X_train_stand,y_train)\n",
    "GBmodel.fit(X_train_stand, y_train)\n",
    "\n",
    "# Predict the outcome variable for the validation set using each model\n",
    "LRy_pred = LRmodel.predict(X_val_stand)\n",
    "KNNy_pred = KNNmodel.predict(X_val_stand)\n",
    "dty_pred = dt_regressor.predict(X_val_stand)\n",
    "rf_pred = rf.predict(X_val_stand)\n",
    "GB_pred = GBmodel.predict(X_val_stand)\n",
    "\n",
    "# Evaluate the performance of each model on the validation set\n",
    "LRr2 = r2_score(y_val, LRy_pred)\n",
    "KNNr2 = r2_score(y_val, KNNy_pred)\n",
    "dtr2 = r2_score(y_val, dty_pred)\n",
    "rfr2 = r2_score(y_val, rf_pred)\n",
    "GBr2 = r2_score(y_val, GB_pred)\n",
    "\n",
    "print(\"Linear Regression R-squared on validation set:\", LRr2)\n",
    "print(\"KNN Regression R-squared on validation set:\", KNNr2)\n",
    "print(\"Decision Tree Regression R-squared on validation set:\", dtr2)\n",
    "print(\"Random forest R-squared on validation set:\", rfr2)\n",
    "print(\"Gradient boosting R-squared on validation set: \", GBr2)\n"
   ]
  },
  {
   "attachments": {},
   "cell_type": "markdown",
   "metadata": {},
   "source": [
    "was: Linear Regression R-squared on validation set: 0.17380643438615606\n",
    "KNN Regression R-squared on validation set: -0.07107551539386181\n",
    "Decision Tree Regression R-squared on validation set: 0.41096192481159755\n",
    "Random forest R-squared on validation set: 0.6878879761065633\n",
    "Gradient boosting R-squared on validation set:  0.7346863177996616"
   ]
  },
  {
   "cell_type": "code",
   "execution_count": 53,
   "metadata": {},
   "outputs": [],
   "source": [
    "# from sklearn.model_selection import GridSearchCV\n",
    "# from sklearn.model_selection import cross_val_score\n",
    "\n",
    "# # Create a list of models\n",
    "# models = [LRmodel, KNNmodel, dt_regressor, rf, GBmodel]\n",
    "\n",
    "# # Create a list of model names\n",
    "# model_names = ['Linear Regression', 'KNN Regression', 'Decision Tree Regression', 'Random Forest', 'Gradient Boosting']\n",
    "\n",
    "# # Create a list of dictionaries containing the hyperparameter grids to search over for each model\n",
    "# param_grids = [\n",
    "#     {},\n",
    "#     {'n_neighbors': [5, 10, 20, 50]},\n",
    "#     {'max_depth': [1, 2, 3, 4, 5]},\n",
    "#     {'n_estimators': [50, 100, 150]},\n",
    "#     {'n_estimators': [50, 100, 150], 'max_depth': [1, 2, 3, 4, 5]}\n",
    "# ]\n",
    "\n",
    "# # Create an empty list to store the validation scores for each model\n",
    "# scores = []\n",
    "\n",
    "# # Loop over each model and corresponding hyperparameter grid\n",
    "# for model, model_name, param_grid in zip(models, model_names, param_grids):\n",
    "#     # Perform a grid search using 5-fold cross-validation\n",
    "#     grid_search = GridSearchCV(model, param_grid, cv=5, scoring='r2')\n",
    "#     grid_search.fit(X_trainval_stand, y_trainval)\n",
    "    \n",
    "#     # Print the best hyperparameters and corresponding score\n",
    "#     print(model_name)\n",
    "#     print('Best hyperparameters:', grid_search.best_params_)\n",
    "#     print('Best score:', grid_search.best_score_)\n",
    "    \n",
    "#     # Store the validation score for the best hyperparameters\n",
    "#     score = cross_val_score(grid_search.best_estimator_, X_val_stand, y_val, cv=5, scoring='r2').mean()\n",
    "#     scores.append(score)\n",
    "#     print('Validation score:', score)\n",
    "#     print('-' * 80)\n",
    "\n",
    "# # Find the index of the best model based on the validation scores\n",
    "# best_model_idx = np.argmax(scores)\n",
    "\n",
    "# # Print the best model and corresponding validation score\n",
    "# print('Best model:', model_names[best_model_idx])\n",
    "# print('Validation score:', scores[best_model_idx])\n"
   ]
  },
  {
   "attachments": {},
   "cell_type": "markdown",
   "metadata": {},
   "source": [
    "# 3. Conclusion Rating ML Algorithms\n",
    "\n",
    "Linear Regression\n",
    "Best hyperparameters: {}\n",
    "Best score: 0.26722132203092197\n",
    "Validation score: 0.002271535530945901\n",
    "\n",
    "KNN Regression\n",
    "Best hyperparameters: {'n_neighbors': 20}\n",
    "Best score: 0.1864932411723101\n",
    "Validation score: 0.12424919807163023\n",
    "\n",
    "Decision Tree Regression\n",
    "Best hyperparameters: {'max_depth': 5}\n",
    "Best score: 0.5299749641751135\n",
    "Validation score: 0.3453239666410732\n",
    "\n",
    "Random Forest\n",
    "Best hyperparameters: {'n_estimators': 150}\n",
    "Best score: 0.7117468481471221\n",
    "Validation score: 0.5028843717269464\n",
    "\n",
    "Gradient Boosting\n",
    "Best hyperparameters: {'max_depth': 3, 'n_estimators': 150}\n",
    "Best score: 0.7453953411092687\n",
    "Validation score: 0.6030986010969092\n",
    "\n",
    "Best model: Gradient Boosting\n",
    "Validation score: 0.6030986010969092"
   ]
  },
  {
   "attachments": {},
   "cell_type": "markdown",
   "metadata": {},
   "source": [
    "# 2.1 Damages"
   ]
  },
  {
   "attachments": {},
   "cell_type": "markdown",
   "metadata": {},
   "source": [
    "Score the 500 applicants"
   ]
  },
  {
   "attachments": {},
   "cell_type": "markdown",
   "metadata": {},
   "source": [
    "### Split data in test/train and standardize"
   ]
  },
  {
   "cell_type": "code",
   "execution_count": 54,
   "metadata": {},
   "outputs": [],
   "source": [
    "from sklearn.preprocessing import StandardScaler\n",
    "\n",
    "X = train\n",
    "X = X.drop(['outcome_damage_amount', 'outcome_damage_inc', 'outcome_profit'], axis=1)\n",
    "y = train['outcome_damage_inc']\n",
    "\n",
    "\n",
    "X_trainval, X_test, y_trainval, y_test = train_test_split(X, y, test_size=0.2, random_state=1234)\n",
    "X_train, X_val, y_train, y_val = train_test_split(X_trainval,y_trainval, test_size=0.2, random_state=1234)\n",
    "\n",
    "num_feat = X_train.select_dtypes(include=['int64', 'float64']).columns\n",
    "\n",
    "scaler = StandardScaler()\n",
    "X_train_stand = X_train.copy()\n",
    "X_trainval_stand = X_trainval.copy()\n",
    "X_val_stand = X_val.copy()\n",
    "X_test_stand = X_test.copy()\n",
    "\n",
    "X_train_stand[num_feat] = scaler.fit_transform(X_train[num_feat])\n",
    "X_val_stand[num_feat] = scaler.transform(X_val[num_feat])\n",
    "X_trainval_stand[num_feat] = scaler.transform(X_trainval[num_feat])\n",
    "X_test_stand[num_feat] = scaler.transform(X_test[num_feat])"
   ]
  },
  {
   "attachments": {},
   "cell_type": "markdown",
   "metadata": {},
   "source": [
    "### 2.1.1 Decision Tree"
   ]
  },
  {
   "cell_type": "code",
   "execution_count": 55,
   "metadata": {},
   "outputs": [],
   "source": [
    "import numpy as np\n",
    "from sklearn.tree import DecisionTreeRegressor\n",
    "from sklearn.model_selection import cross_val_score\n",
    "\n",
    "# fit decision tree regressor with cross-validation\n",
    "depth = np.arange(1, 50)\n",
    "cv_scores = []\n",
    "sd_scores = []\n",
    "for d in depth:\n",
    "    dec_tree = DecisionTreeRegressor(random_state=0, max_depth=d)\n",
    "    scores = cross_val_score(dec_tree, X_train_stand, y_train, cv=5)\n",
    "    cv_scores.append(scores.mean())\n",
    "    sd_scores.append(np.sqrt(scores.var())/np.sqrt(5))\n",
    "\n",
    "# fit decision tree regressor to entire training set\n",
    "dec_tree.fit(X_train_stand, y_train)\n",
    "\n",
    "# Standardize numerical features for new applicants\n",
    "num_feat = [feat for feat in num_feat if feat in score.columns] # remove non-existent features\n",
    "new_applicants_stand = score.copy()\n",
    "new_applicants_stand[num_feat] = scaler.transform(score[num_feat])\n",
    "\n",
    "\n",
    "# Predict damages for new applicants using the trained decision tree regressor\n",
    "DTdamages_pred = dec_tree.predict(new_applicants_stand)\n",
    "Dtdamages_pred = np.where(DTdamages_pred > 0.5, 1, 0)\n",
    "\n",
    "# Only keep the applicants who will cause damage to calculate the damage amount\n",
    "applicants_who_will_cause_damageDT = new_applicants_stand[DTdamages_pred > 0]\n"
   ]
  },
  {
   "attachments": {},
   "cell_type": "markdown",
   "metadata": {},
   "source": [
    "### 2.1.3 Gradient Boosting"
   ]
  },
  {
   "cell_type": "code",
   "execution_count": 56,
   "metadata": {},
   "outputs": [
    {
     "name": "stdout",
     "output_type": "stream",
     "text": [
      "[0 0 0 0 0 0 0 0 0 0 0 0 0 0 0 0 0 0 0 0 0 0 0 0 0 0 0 0 0 0 0 0 0 0 0 0 0\n",
      " 0 1 0 0 0 0 0 0 1 0 0 0 0 0 0 0 1 0 0 0 0 0 0 0 0 0 0 0 0 0 0 0 0 0 0 0 0\n",
      " 1 0 0 0 1 0 0 0 0 0 0 0 0 0 0 0 0 0 0 0 0 0 0 0 0 0 0 0 0 0 1 0 0 0 0 0 0\n",
      " 0 1 0 0 0 0 0 0 0 0 0 0 0 0 0 0 0 0 0 0 0 0 0 0 0 0 0 0 0 0 0 0 0 0 0 0 0\n",
      " 0 0 0 1 0 0 0 0 0 0 0 0 0 0 0 0 0 0 0 0 0 0 0 0 0 0 0 0 0 0 0 0 0 0 0 0 0\n",
      " 0 0 0 0 0 0 0 0 0 0 0 0 0 0 0 0 0 0 0 0 0 0 0 0 0 0 0 0 0 0 0 0 0 0 0 0 0\n",
      " 0 0 0 0 0 0 0 0 0 0 0 0 1 0 0 0 0 0 0 0 0 0 0 0 0 0 0 0 0 0 0 0 0 0 0 0 0\n",
      " 0 0 0 0 0 0 0 0 0 0 0 1 1 0 0 0 0 0 0 0 0 0 0 0 0 0 0 1 0 0 0 0 0 0 0 0 0\n",
      " 0 0 0 0 0 0 0 0 0 0 0 1 0 0 0 0 0 0 1 0 0 0 0 0 0 1 0 0 0 0 0 0 0 0 0 0 1\n",
      " 0 0 0 0 0 0 0 0 0 0 0 0 0 0 0 0 0 0 1 0 0 0 0 0 0 0 0 0 0 0 0 0 0 0 0 0 0\n",
      " 0 0 0 0 0 1 0 1 0 0 0 0 0 0 0 0 0 0 0 0 0 0 0 0 0 0 0 0 0 0 0 0 0 0 0 0 0\n",
      " 0 0 0 0 0 0 0 0 0 0 0 0 0 0 0 0 0 0 0 1 0 0 0 0 0 0 0 0 0 0 0 0 0 0 0 0 0\n",
      " 0 0 0 0 0 0 0 0 0 0 0 0 0 0 0 0 0 0 0 0 0 0 0 0 0 0 0 0 0 0 0 0 0 0 0 0 0\n",
      " 0 0 0 0 0 0 0 0 0 0 0 0 0 0 0 0 0 0 0]\n"
     ]
    }
   ],
   "source": [
    "import numpy as np\n",
    "from sklearn.model_selection import cross_val_score\n",
    "from sklearn.ensemble import GradientBoostingRegressor\n",
    "\n",
    "\n",
    "# fit decision tree regressor with cross-validation\n",
    "depth = np.arange(1, 50)\n",
    "cv_scores = []\n",
    "sd_scores = []\n",
    "for d in depth:\n",
    "    grad_boost = GradientBoostingRegressor()\n",
    "    scores = cross_val_score(dec_tree, X_train_stand, y_train, cv=5)\n",
    "    cv_scores.append(scores.mean())\n",
    "    sd_scores.append(np.sqrt(scores.var())/np.sqrt(5))\n",
    "\n",
    "# fit decision tree regressor to entire training set\n",
    "grad_boost.fit(X_train_stand, y_train)\n",
    "\n",
    "# Standardize numerical features for new applicants\n",
    "num_feat = [feat for feat in num_feat if feat in score.columns] # remove non-existent features\n",
    "new_applicants_stand = score.copy()\n",
    "new_applicants_stand[num_feat] = scaler.transform(score[num_feat])\n",
    "\n",
    "# Predict damages for new applicants using the trained decision tree regressor\n",
    "damages_predGB = grad_boost.predict(new_applicants_stand)\n",
    "damages_predGB = np.where(damages_predGB > 0.5, 1, 0)\n",
    "\n",
    "print(damages_predGB)\n",
    "\n",
    "# Only keep the applicants who will cause damage to calculate the damage amount\n",
    "applicants_who_will_cause_damageGB = new_applicants_stand[damages_predGB > 0]\n"
   ]
  },
  {
   "attachments": {},
   "cell_type": "markdown",
   "metadata": {},
   "source": [
    "### 2.1.4 KNN"
   ]
  },
  {
   "cell_type": "code",
   "execution_count": 57,
   "metadata": {},
   "outputs": [],
   "source": [
    "import numpy as np\n",
    "from sklearn.neighbors import KNeighborsRegressor\n",
    "from sklearn.model_selection import cross_val_score\n",
    "\n",
    "# fit KNN regressor with cross-validation\n",
    "k_values = np.arange(1, 50)\n",
    "cv_scores = []\n",
    "sd_scores = []\n",
    "for k in k_values:\n",
    "    knn = KNeighborsRegressor(n_neighbors=k)\n",
    "    scores = cross_val_score(knn, X_train_stand, y_train, cv=5)\n",
    "    cv_scores.append(scores.mean())\n",
    "    sd_scores.append(np.sqrt(scores.var())/np.sqrt(5))\n",
    "\n",
    "# fit KNN regressor to entire training set\n",
    "knn = KNeighborsRegressor(n_neighbors=5)\n",
    "knn.fit(X_train_stand, y_train)\n",
    "\n",
    "# Standardize numerical features for new applicants\n",
    "num_feat = [feat for feat in num_feat if feat in score.columns] # remove non-existent features\n",
    "new_applicants_stand = score.copy()\n",
    "new_applicants_stand[num_feat] = scaler.transform(score[num_feat])\n",
    "\n",
    "# Predict damages for new applicants using the trained KNN regressor\n",
    "damages_predKNN = knn.predict(new_applicants_stand)\n",
    "damages_predKNN = np.where(damages_predKNN > 0.5, 1, 0)\n",
    "\n",
    "# Only keep the applicants who will cause damage to calculate the damage amount\n",
    "applicants_who_will_cause_damageKNN = new_applicants_stand[damages_predKNN > 0]\n"
   ]
  },
  {
   "attachments": {},
   "cell_type": "markdown",
   "metadata": {},
   "source": [
    "## 2.1.5 Lineair Regression"
   ]
  },
  {
   "cell_type": "code",
   "execution_count": 58,
   "metadata": {},
   "outputs": [],
   "source": [
    "import numpy as np\n",
    "from sklearn.model_selection import train_test_split\n",
    "from sklearn.preprocessing import StandardScaler\n",
    "from sklearn.linear_model import LinearRegression\n",
    "\n",
    "# fit linear regression model\n",
    "lin_reg = LinearRegression()\n",
    "lin_reg.fit(X_train_stand, y_train)\n",
    "\n",
    "# Standardize numerical features for new applicants\n",
    "new_applicants_stand = score.copy()\n",
    "new_applicants_stand[num_feat] = scaler.transform(score[num_feat])\n",
    "\n",
    "# Predict damages for new applicants using the trained linear regression model\n",
    "damages_predLR = lin_reg.predict(new_applicants_stand)\n",
    "damages_predLR = np.where(damages_predLR > 0.5, 1, 0)\n",
    "\n",
    "# Only keep the applicants who will cause damage to calculate the damage amount\n",
    "applicants_who_will_cause_damageLR = new_applicants_stand[damages_predLR > 0]\n"
   ]
  },
  {
   "attachments": {},
   "cell_type": "markdown",
   "metadata": {},
   "source": [
    "### 2.1.6 Random Forest "
   ]
  },
  {
   "cell_type": "code",
   "execution_count": 59,
   "metadata": {},
   "outputs": [],
   "source": [
    "import numpy as np\n",
    "from sklearn.ensemble import RandomForestRegressor\n",
    "from sklearn.model_selection import cross_val_score\n",
    "\n",
    "# fit random forest regressor with cross-validation\n",
    "\n",
    "rnd_forest = RandomForestRegressor(random_state=0, n_estimators=100, max_depth=d)\n",
    "\n",
    "\n",
    "# fit random forest regressor to entire training set\n",
    "rnd_forest.fit(X_train_stand, y_train)\n",
    "\n",
    "# Standardize numerical features for new applicants\n",
    "new_applicants_stand = score.copy()\n",
    "new_applicants_stand[num_feat] = scaler.transform(score[num_feat])\n",
    "\n",
    "# Predict damages for new applicants using the trained random forest regressor\n",
    "damages_predRF = rnd_forest.predict(new_applicants_stand)\n",
    "damages_predRF = np.where(damages_predRF > 0.5, 1, 0)\n",
    "\n",
    "# Only keep the applicants who will cause damage to calculate the damage amount\n",
    "applicants_who_will_cause_damageRF = new_applicants_stand[damages_predRF > 0]\n"
   ]
  },
  {
   "cell_type": "code",
   "execution_count": 60,
   "metadata": {},
   "outputs": [
    {
     "name": "stdout",
     "output_type": "stream",
     "text": [
      "Linear Regression R-squared on validation set: 0.024424866493211295\n",
      "KNN Regression R-squared on validation set: 0.06106144772887223\n",
      "Decision Tree Regression R-squared on validation set: -0.10964624676445234\n",
      "Random forest R-squared on validation set: -0.9983433994823123\n",
      "Gradient boosting R-squared on validation set:  0.06699724965829812\n"
     ]
    }
   ],
   "source": [
    "\n",
    "# Fit each model on the training set\n",
    "rnd_forest.fit(X_train_stand, y_train)\n",
    "lin_reg.fit(X_train_stand, y_train)\n",
    "knn.fit(X_train_stand, y_train)\n",
    "dec_tree.fit(X_train_stand,y_train)\n",
    "grad_boost.fit(X_train_stand, y_train)\n",
    "\n",
    "# Predict the outcome variable for the validation set using each model\n",
    "rnd_forest_pred = rnd_forest.predict(X_val_stand)\n",
    "lin_reg_pred = lin_reg.predict(X_val_stand)\n",
    "knn_pred = knn.predict(X_val_stand)\n",
    "dec_tree_pred = dec_tree.predict(X_val_stand)\n",
    "grad_boost_pred = grad_boost.predict(X_val_stand)\n",
    "\n",
    "# Evaluate the performance of each model on the validation set\n",
    "rndr2 = r2_score(y_val, rnd_forest_pred)\n",
    "lin_regr2 = r2_score(y_val, lin_reg_pred)\n",
    "knnr2 = r2_score(y_val, knn_pred)\n",
    "dec_treer2 = r2_score(y_val, dec_tree_pred)\n",
    "grad_boostr2 = r2_score(y_val, grad_boost_pred)\n",
    "\n",
    "print(\"Linear Regression R-squared on validation set:\", rndr2)\n",
    "print(\"KNN Regression R-squared on validation set:\", lin_regr2)\n",
    "print(\"Decision Tree Regression R-squared on validation set:\", knnr2)\n",
    "print(\"Random forest R-squared on validation set:\", dec_treer2)\n",
    "print(\"Gradient boosting R-squared on validation set: \", grad_boostr2)\n"
   ]
  },
  {
   "attachments": {},
   "cell_type": "markdown",
   "metadata": {},
   "source": [
    "As gradient boosting has the best R2 score we will use its results to calculate the damage amount"
   ]
  },
  {
   "attachments": {},
   "cell_type": "markdown",
   "metadata": {},
   "source": [
    "# 2.2 Predict damage amount"
   ]
  },
  {
   "cell_type": "code",
   "execution_count": 61,
   "metadata": {},
   "outputs": [],
   "source": [
    "from sklearn.preprocessing import StandardScaler\n",
    "\n",
    "X = train\n",
    "X = X.drop(['outcome_damage_amount', 'outcome_damage_inc', 'outcome_profit'], axis=1)\n",
    "y = train['outcome_damage_amount']\n",
    "\n",
    "\n",
    "X_trainval, X_test, y_trainval, y_test = train_test_split(X, y, test_size=0.2, random_state=1234)\n",
    "X_train, X_val, y_train, y_val = train_test_split(X_trainval,y_trainval, test_size=0.2, random_state=1234)\n",
    "\n",
    "num_feat = X_train.select_dtypes(include=['int64', 'float64']).columns\n",
    "\n",
    "scaler = StandardScaler()\n",
    "X_train_stand = X_train.copy()\n",
    "X_trainval_stand = X_trainval.copy()\n",
    "X_val_stand = X_val.copy()\n",
    "X_test_stand = X_test.copy()\n",
    "\n",
    "X_train_stand[num_feat] = scaler.fit_transform(X_train[num_feat])\n",
    "X_val_stand[num_feat] = scaler.transform(X_val[num_feat])\n",
    "X_trainval_stand[num_feat] = scaler.transform(X_trainval[num_feat])\n",
    "X_test_stand[num_feat] = scaler.transform(X_test[num_feat])"
   ]
  },
  {
   "attachments": {},
   "cell_type": "markdown",
   "metadata": {},
   "source": [
    "### 2.2.0 Linear Regression"
   ]
  },
  {
   "cell_type": "code",
   "execution_count": 62,
   "metadata": {},
   "outputs": [
    {
     "name": "stdout",
     "output_type": "stream",
     "text": [
      "[469.59569456 215.27116618 485.10728624 504.80535915 587.74029874\n",
      " 219.33639373 828.05506602 120.37967609 412.5379462  480.1521534\n",
      " 147.04211822 422.81145677 388.92756302 370.10323337 351.29568734\n",
      " 181.57025106 521.99386516 517.85738241 341.04779492 919.22163071]\n"
     ]
    }
   ],
   "source": [
    "import numpy as np\n",
    "from sklearn.linear_model import LinearRegression\n",
    "from sklearn.model_selection import cross_val_score\n",
    "\n",
    "# fit linear regression with cross-validation\n",
    "cv_scores = []\n",
    "sd_scores = []\n",
    "lin_reg = LinearRegression()\n",
    "scores = cross_val_score(lin_reg, X_train_stand, y_train, cv=5)\n",
    "cv_scores.append(scores.mean())\n",
    "sd_scores.append(np.sqrt(scores.var())/np.sqrt(5))\n",
    "\n",
    "# fit linear regression to entire training set\n",
    "lin_reg.fit(X_train_stand, y_train)\n",
    "\n",
    "# Predict damages for new applicants using the trained linear regression\n",
    "damages_pred = lin_reg.predict(applicants_who_will_cause_damageGB)\n",
    "print(damages_pred)\n"
   ]
  },
  {
   "attachments": {},
   "cell_type": "markdown",
   "metadata": {},
   "source": [
    "### 2.2.1 Gradient Boosting"
   ]
  },
  {
   "cell_type": "code",
   "execution_count": 63,
   "metadata": {},
   "outputs": [
    {
     "data": {
      "text/plain": [
       "array([ 739.48722851,  659.3717816 ,  485.1444383 , 1190.69489779,\n",
       "       1204.12935355,  426.57214559,  476.05344222,  176.12219066,\n",
       "        781.71435292,  863.18594326,  441.30348859,  303.25033389,\n",
       "        553.44103032,  468.90786846,  268.12190643,  715.34524701,\n",
       "        863.35022983,  407.19714215,  429.5105467 ,  598.67414989])"
      ]
     },
     "execution_count": 63,
     "metadata": {},
     "output_type": "execute_result"
    }
   ],
   "source": [
    "import numpy as np\n",
    "from sklearn.ensemble import GradientBoostingRegressor\n",
    "from sklearn.model_selection import cross_val_score\n",
    "\n",
    "# fit Gradient Boosting regressor with cross-validation\n",
    "depth = np.arange(1, 10)\n",
    "cv_scores = []\n",
    "sd_scores = []\n",
    "for d in depth:\n",
    "    gb_regressor = GradientBoostingRegressor(random_state=0, n_estimators=100, max_depth=d)\n",
    "    scores = cross_val_score(gb_regressor, X_train_stand, y_train, cv=5)\n",
    "    cv_scores.append(scores.mean())\n",
    "    sd_scores.append(np.sqrt(scores.var())/np.sqrt(5))\n",
    "\n",
    "# fit Gradient Boosting regressor to entire training set\n",
    "gb_regressor.fit(X_train_stand, y_train)\n",
    "\n",
    "# Predict damages for new applicants using the trained Gradient Boosting regressor\n",
    "damages_pred = gb_regressor.predict(applicants_who_will_cause_damageGB)\n",
    "damages_pred\n"
   ]
  },
  {
   "attachments": {},
   "cell_type": "markdown",
   "metadata": {},
   "source": [
    "### 2.2.2 Decision Tree Regressor"
   ]
  },
  {
   "attachments": {},
   "cell_type": "markdown",
   "metadata": {},
   "source": [
    "TODO Zorg ervoor dat de andere algoritmes ook de applicants_who_will_cause_damage gebruiken"
   ]
  },
  {
   "cell_type": "code",
   "execution_count": 64,
   "metadata": {},
   "outputs": [
    {
     "name": "stdout",
     "output_type": "stream",
     "text": [
      "[ 965.51  577.26  625.33 1469.4  1259.49    0.    538.93    0.   1003.47\n",
      "  951.32  730.98  662.73    0.   1295.06  693.88 1236.95  875.      0.\n",
      "    0.      0.  ]\n"
     ]
    }
   ],
   "source": [
    "import numpy as np\n",
    "from sklearn.model_selection import train_test_split\n",
    "from sklearn.preprocessing import StandardScaler\n",
    "from sklearn.tree import DecisionTreeRegressor\n",
    "from sklearn.model_selection import cross_val_score\n",
    "\n",
    "# fit decision tree regressor with cross-validation\n",
    "depth = np.arange(1, 50)\n",
    "cv_scores = []\n",
    "sd_scores = []\n",
    "for d in depth:\n",
    "    dec_tree = DecisionTreeRegressor(random_state=0, max_depth=d)\n",
    "    scores = cross_val_score(dec_tree, X_train_stand, y_train, cv=5)\n",
    "    cv_scores.append(scores.mean())\n",
    "    sd_scores.append(np.sqrt(scores.var())/np.sqrt(5))\n",
    "\n",
    "# fit decision tree regressor to entire training set\n",
    "dec_tree.fit(X_train_stand, y_train)\n",
    "\n",
    "# Predict damages for new applicants using the trained decision tree regressor\n",
    "damages_pred = dec_tree.predict(applicants_who_will_cause_damageGB)\n",
    "print(damages_pred)"
   ]
  },
  {
   "attachments": {},
   "cell_type": "markdown",
   "metadata": {},
   "source": [
    "### 2.2.3 KNN"
   ]
  },
  {
   "cell_type": "code",
   "execution_count": 65,
   "metadata": {},
   "outputs": [
    {
     "name": "stdout",
     "output_type": "stream",
     "text": [
      "[542.786 193.362 608.096 338.012 562.498 286.076 361.126   0.    482.818\n",
      "  50.602 205.054 522.436 405.434 505.088 200.694 344.78  751.27  292.472\n",
      "  89.648 438.228]\n"
     ]
    }
   ],
   "source": [
    "import numpy as np\n",
    "from sklearn.neighbors import KNeighborsRegressor\n",
    "from sklearn.model_selection import cross_val_score\n",
    "\n",
    "# fit KNN regressor with cross-validation\n",
    "k_values = np.arange(1, 50)\n",
    "cv_scores = []\n",
    "sd_scores = []\n",
    "for k in k_values:\n",
    "    knn = KNeighborsRegressor(n_neighbors=k)\n",
    "    scores = cross_val_score(knn, X_train_stand, y_train, cv=5)\n",
    "    cv_scores.append(scores.mean())\n",
    "    sd_scores.append(np.sqrt(scores.var())/np.sqrt(5))\n",
    "\n",
    "# fit KNN regressor to entire training set\n",
    "knn = KNeighborsRegressor(n_neighbors=5)\n",
    "knn.fit(X_train_stand, y_train)\n",
    "\n",
    "\n",
    "# Predict damages for new applicants using the trained KNN regressor\n",
    "damages_pred = knn.predict(applicants_who_will_cause_damageGB)\n",
    "print(damages_pred)\n"
   ]
  },
  {
   "attachments": {},
   "cell_type": "markdown",
   "metadata": {},
   "source": [
    "### 2.2.4 Random Forest"
   ]
  },
  {
   "cell_type": "code",
   "execution_count": 66,
   "metadata": {},
   "outputs": [
    {
     "name": "stdout",
     "output_type": "stream",
     "text": [
      "[595.62983545 281.72795719 441.91478629 579.55675081 767.83907066\n",
      " 459.22609257 368.72828857 173.88095702 525.07105687 654.55463104\n",
      " 357.10459625 334.05722623 334.45494428 399.67330526 330.7266984\n",
      " 604.57041007 577.48454887 387.0596495  343.60807207 603.47017978]\n"
     ]
    }
   ],
   "source": [
    "import numpy as np\n",
    "from sklearn.ensemble import RandomForestRegressor\n",
    "from sklearn.model_selection import cross_val_score\n",
    "\n",
    "# fit random forest regressor with cross-validation\n",
    "depth = np.arange(1, 10)\n",
    "cv_scores = []\n",
    "sd_scores = []\n",
    "for d in depth:\n",
    "    rnd_forest = RandomForestRegressor(random_state=0, n_estimators=100, max_depth=d)\n",
    "    scores = cross_val_score(rnd_forest, X_train_stand, y_train, cv=5)\n",
    "    cv_scores.append(scores.mean())\n",
    "    sd_scores.append(np.sqrt(scores.var())/np.sqrt(5))\n",
    "\n",
    "# fit random forest regressor to entire training set\n",
    "rnd_forest.fit(X_train_stand, y_train)\n",
    "\n",
    "# Predict damages for new applicants using the trained random forest regressor\n",
    "damages_pred = rnd_forest.predict(applicants_who_will_cause_damageGB)\n",
    "print(damages_pred)\n"
   ]
  },
  {
   "attachments": {},
   "cell_type": "markdown",
   "metadata": {},
   "source": [
    "# 3. Create a measure of the expected value of each applicant, and create an optimal selection of 200 guests"
   ]
  },
  {
   "attachments": {},
   "cell_type": "markdown",
   "metadata": {},
   "source": [
    "We insert zeros on the original places so both lists have the corresponding data on the corresponding indexes"
   ]
  },
  {
   "cell_type": "code",
   "execution_count": 67,
   "metadata": {},
   "outputs": [
    {
     "name": "stdout",
     "output_type": "stream",
     "text": [
      "[0, 0, 0, 0, 0, 0, 0, 0, 0, 0, 0, 0, 0, 0, 0, 0, 0, 0, 0, 0, 0, 0, 0, 0, 0, 0, 0, 0, 0, 0, 0, 0, 0, 0, 0, 0, 0, 0, 595.6298354522762, 0, 0, 0, 0, 0, 0, 281.7279571947173, 0, 0, 0, 0, 0, 0, 0, 441.91478629183007, 0, 0, 0, 0, 0, 0, 0, 0, 0, 0, 0, 0, 0, 0, 0, 0, 0, 0, 0, 0, 579.556750809744, 0, 0, 0, 767.8390706614631, 0, 0, 0, 0, 0, 0, 0, 0, 0, 0, 0, 0, 0, 0, 0, 0, 0, 0, 0, 0, 0, 0, 0, 0, 0, 459.22609257320187, 0, 0, 0, 0, 0, 0, 0, 368.7282885671073, 0, 0, 0, 0, 0, 0, 0, 0, 0, 0, 0, 0, 0, 0, 0, 0, 0, 0, 0, 0, 0, 0, 0, 0, 0, 0, 0, 0, 0, 0, 0, 0, 0, 0, 0, 0, 0, 0, 173.88095701721207, 0, 0, 0, 0, 0, 0, 0, 0, 0, 0, 0, 0, 0, 0, 0, 0, 0, 0, 0, 0, 0, 0, 0, 0, 0, 0, 0, 0, 0, 0, 0, 0, 0, 0, 0, 0, 0, 0, 0, 0, 0, 0, 0, 0, 0, 0, 0, 0, 0, 0, 0, 0, 0, 0, 0, 0, 0, 0, 0, 0, 0, 0, 0, 0, 0, 0, 0, 0, 0, 0, 0, 0, 0, 0, 0, 0, 0, 0, 0, 0, 0, 0, 525.0710568663055, 0, 0, 0, 0, 0, 0, 0, 0, 0, 0, 0, 0, 0, 0, 0, 0, 0, 0, 0, 0, 0, 0, 0, 0, 0, 0, 0, 0, 0, 0, 0, 0, 0, 0, 0, 654.5546310438538, 357.10459625146, 0, 0, 0, 0, 0, 0, 0, 0, 0, 0, 0, 0, 0, 0, 334.05722622779706, 0, 0, 0, 0, 0, 0, 0, 0, 0, 0, 0, 0, 0, 0, 0, 0, 0, 0, 0, 0, 334.4549442834603, 0, 0, 0, 0, 0, 0, 399.673305260362, 0, 0, 0, 0, 0, 0, 330.726698403041, 0, 0, 0, 0, 0, 0, 0, 0, 0, 0, 604.5704100700048, 0, 0, 0, 0, 0, 0, 0, 0, 0, 0, 0, 0, 0, 0, 0, 0, 0, 0, 577.4845488653364, 0, 0, 0, 0, 0, 0, 0, 0, 0, 0, 0, 0, 0, 0, 0, 0, 0, 0, 0, 0, 0, 0, 0, 387.05964950112457, 0, 343.6080720670611, 0, 0, 0, 0, 0, 0, 0, 0, 0, 0, 0, 0, 0, 0, 0, 0, 0, 0, 0, 0, 0, 0, 0, 0, 0, 0, 0, 0, 0, 0, 0, 0, 0, 0, 0, 0, 0, 0, 0, 0, 0, 0, 0, 0, 0, 0, 0, 0, 603.4701797843197, 0, 0, 0, 0, 0, 0, 0, 0, 0, 0, 0, 0, 0, 0, 0, 0, 0, 0, 0, 0, 0, 0, 0, 0, 0, 0, 0, 0, 0, 0, 0, 0, 0, 0, 0, 0, 0, 0, 0, 0, 0, 0, 0, 0, 0, 0, 0, 0, 0, 0, 0, 0, 0, 0, 0, 0, 0, 0, 0, 0, 0, 0, 0, 0, 0, 0, 0, 0, 0, 0, 0, 0, 0]\n"
     ]
    }
   ],
   "source": [
    "damages_pred = damages_pred.tolist()\n",
    "for i in range(len(damages_predGB)):\n",
    "    if damages_predGB[i] == 0:\n",
    "        damages_pred.insert(i, 0)\n",
    "\n",
    "print(damages_pred)"
   ]
  },
  {
   "attachments": {},
   "cell_type": "markdown",
   "metadata": {},
   "source": [
    "Now we can substract the damages from the revenue predictions. With the added zeros we now have the corresponding applicants on the right indexes. So we can substract everyones predicted damage amount from the predicted revenue. This will be our mesure to select the best applicants. The highest profit after substraction will win."
   ]
  },
  {
   "cell_type": "code",
   "execution_count": 68,
   "metadata": {},
   "outputs": [
    {
     "name": "stdout",
     "output_type": "stream",
     "text": [
      "{81: 16816.061873194507, 431: 12402.950351156034, 256: 11239.5078883424, 78: 9104.535407561549, 84: 8835.757606836154, 74: 6851.30567106931, 48: 6748.636149289693, 253: 6311.984195452188, 85: 4928.633421237678, 149: 4613.563707800862, 8: 4317.913408692009, 124: 4142.840990543022, 168: 3873.2851793145483, 371: 3659.8496894156583, 496: 3469.631948842577, 169: 3425.7032156697387, 373: 3400.69227791253, 361: 3397.182478399876, 31: 3386.3448928036237, 16: 3380.2511406604294, 341: 3374.7777622123845, 237: 3307.209011430321, 451: 3193.3618406959126, 455: 3167.1824709100642, 68: 3138.564000416357, 463: 3135.914745257471, 179: 3135.770689465791, 401: 3133.4254779454945, 467: 3126.6181830501678, 490: 3124.98725877687, 335: 3090.449178340834, 123: 3064.1117903906534, 295: 3033.8054819330337, 132: 3033.779479443297, 433: 3028.2518526653826, 303: 3025.393712654929, 7: 3022.499923711246, 137: 2997.789867112247, 114: 2949.4619113175754, 121: 2947.3664439822783, 334: 2934.1587435184774, 201: 2929.974028727654, 228: 2888.8524378929396, 154: 2829.349108349241, 89: 2826.5845939716905, 478: 2814.1874521570894, 323: 2797.455339159949, 444: 2688.889825580523, 77: 2666.201408215958, 152: 2657.6922309795036, 158: 2655.8483605006454, 277: 2649.859944287304, 388: 2640.7340239757764, 199: 2620.9593648774594, 52: 2612.9784180709353, 320: 2582.1904289967583, 409: 2582.1904289967583, 260: 2569.4939312865276, 421: 2552.8453403759304, 340: 2550.313765967201, 317: 2535.8961089867594, 19: 2519.935140300247, 280: 2501.8303000287415, 311: 2487.6391730084706, 454: 2477.459569485612, 170: 2463.4670906600722, 117: 2456.3750207894673, 405: 2422.530390583769, 190: 2388.967276460233, 308: 2372.0698830463925, 94: 2365.004455534335, 464: 2351.5304275686476, 424: 2344.9875735036267, 386: 2324.273664425998, 205: 2316.4663951237976, 263: 2301.3965908932805, 398: 2300.5381036729577, 494: 2298.442345488476, 45: 2292.65822215696, 1: 2290.3421958582467, 211: 2288.223927861039, 379: 2280.930162899714, 274: 2250.82957997253, 103: 2248.056903618851, 448: 2236.975157162678, 25: 2226.542518720489, 261: 2218.3353942152567, 115: 2217.5647779707037, 246: 2206.987324736536, 147: 2198.65945861889, 407: 2197.9942990861978, 402: 2195.7948048998815, 327: 2175.686299061986, 98: 2174.9297332332503, 329: 2165.960996806918, 419: 2159.7691849285784, 279: 2158.6728307157227, 230: 2153.5191761708234, 122: 2132.350314695588, 182: 2127.0991309709007, 270: 2127.0939493641763, 3: 2126.548019217552, 378: 2124.172309474106, 259: 2124.1142799394156, 473: 2112.9434977084143, 33: 2107.550495982988, 160: 2107.146950485992, 299: 2088.4865271776534, 343: 2087.79923307035, 196: 2087.3314902396796, 288: 2086.8737813331345, 439: 2086.664870385315, 177: 2085.187657144148, 284: 2084.516578182811, 493: 2076.394381188412, 336: 2071.738117616303, 356: 2069.4622540785645, 171: 2068.5812336367535, 456: 2068.55791015362, 495: 2064.459400168259, 43: 2062.536681149968, 252: 2056.2579937964647, 15: 2051.904816343004, 265: 2049.992498461933, 21: 2049.0302435437993, 71: 2047.9359725071272, 75: 2044.8420126656579, 162: 2039.9245622587382, 67: 2038.7196373237214, 131: 2038.2792568064738, 393: 2037.027114519366, 481: 2036.4105926307654, 155: 2035.097605746514, 465: 2034.5374650932267, 58: 2025.4405089284407, 140: 2016.0722869415104, 315: 2008.03552739725, 176: 2007.9941236240236, 462: 2006.200193661122, 243: 1999.021048004587, 292: 1991.234586280209, 202: 1989.9029569949716, 359: 1983.9716677421497, 416: 1982.798278375198, 210: 1978.5852637537582, 110: 1978.1240000799366, 28: 1977.683756954959, 102: 1976.494791601329, 254: 1974.3254862005424, 150: 1968.7539926325219, 460: 1967.1911456701057, 64: 1966.0596754680105, 294: 1960.7002042810093, 153: 1959.7965925816563, 197: 1957.3451397214628, 273: 1957.3038635815951, 353: 1957.1058155048647, 360: 1954.7801353064465, 172: 1953.9724692399054, 342: 1953.9634138412273, 189: 1947.820565924717, 72: 1943.3945931464248, 262: 1940.0080820059695, 383: 1939.8104974989578, 435: 1939.770367701573, 181: 1937.7390808434593, 438: 1937.5029420767862, 272: 1936.3906313646035, 54: 1933.7531052630588, 275: 1933.549394943332, 242: 1931.6941089180007, 404: 1931.5291169041602, 264: 1927.1154912858285, 457: 1924.0078538989687, 174: 1923.125412120106, 291: 1921.512917048456, 165: 1920.1896545022264, 368: 1919.647775240075, 345: 1918.2299230508506, 382: 1912.940971731241, 14: 1912.587168521727, 69: 1909.83849277242, 23: 1907.1082436883485, 400: 1906.7355644252773, 484: 1906.6867590381667, 163: 1903.024717208743, 498: 1902.6631799817296, 333: 1902.2042689170598, 62: 1901.6241622701593, 459: 1900.2719990013566, 188: 1892.3571902625747, 255: 1888.1656831686344, 304: 1885.3189220560237, 392: 1881.4775665429995, 218: 1877.9090051677683, 412: 1875.943877007863, 222: 1874.4875962363037, 449: 1868.5937105147334, 390: 1868.0316678195986, 96: 1866.288692739593}\n"
     ]
    }
   ],
   "source": [
    "# Calculate the expected value of each applicant\n",
    "expected_value = GBpredictions - damages_pred\n",
    "\n",
    "# Create a dictionary with the original indices as keys and values as values\n",
    "index_value_dict = {i: expected_value[i] for i in range(len(expected_value))}\n",
    "\n",
    "# Sort the dictionary by values in descending order\n",
    "sorted_dict = dict(sorted(index_value_dict.items(), key=lambda item: item[1], reverse=True))\n",
    "\n",
    "# Get the top 200 items\n",
    "top200_dict = {k: sorted_dict[k] for k in list(sorted_dict)[:200]}\n",
    "\n",
    "print(top200_dict)\n"
   ]
  },
  {
   "cell_type": "code",
   "execution_count": 69,
   "metadata": {},
   "outputs": [],
   "source": [
    "import pandas as pd\n",
    "\n",
    "# convert dictionary to pandas DataFrame\n",
    "df = pd.DataFrame(list(top200_dict.items()), columns=['index', 'predicted profit'])\n",
    "\n",
    "# save to CSV file\n",
    "df.to_csv('result.csv', index=False)"
   ]
  }
 ],
 "metadata": {
  "kernelspec": {
   "display_name": "Python 3",
   "language": "python",
   "name": "python3"
  },
  "language_info": {
   "codemirror_mode": {
    "name": "ipython",
    "version": 3
   },
   "file_extension": ".py",
   "mimetype": "text/x-python",
   "name": "python",
   "nbconvert_exporter": "python",
   "pygments_lexer": "ipython3",
   "version": "3.11.2"
  },
  "orig_nbformat": 4
 },
 "nbformat": 4,
 "nbformat_minor": 2
}
